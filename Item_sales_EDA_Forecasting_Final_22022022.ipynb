{
 "cells": [
  {
   "cell_type": "markdown",
   "id": "38628a5f-9550-42f1-9443-1d84063ef599",
   "metadata": {
    "tags": []
   },
   "source": [
    "# Install libraries [optional]"
   ]
  },
  {
   "cell_type": "code",
   "execution_count": null,
   "id": "8cIKEJqnwuFn",
   "metadata": {
    "colab": {
     "base_uri": "https://localhost:8080/"
    },
    "id": "8cIKEJqnwuFn",
    "outputId": "73c10dd9-1729-44c9-ff8a-05bf6892d862"
   },
   "outputs": [],
   "source": [
    "#Developed on Jupyter Notebook Data Science Stack (Docker)\n",
    "#!pip install pmdarima\n",
    "#!pip install tbats\n",
    "#!conda install gcc\n",
    "#!conda install -c conda-forge prophet"
   ]
  },
  {
   "cell_type": "markdown",
   "id": "bd700a1c-18a1-416b-8c45-73f144454544",
   "metadata": {
    "tags": []
   },
   "source": [
    "# Import"
   ]
  },
  {
   "cell_type": "code",
   "execution_count": null,
   "id": "eb5cefc6",
   "metadata": {
    "id": "eb5cefc6"
   },
   "outputs": [],
   "source": [
    "import pandas as pd\n",
    "import numpy as np\n",
    "import matplotlib.pyplot as plt\n",
    "import seaborn as sns\n",
    "from scipy import stats,signal\n",
    "from scipy.stats import chi2, chi2_contingency\n",
    "from sklearn.metrics import mean_squared_error, mean_absolute_error, mean_absolute_percentage_error\n",
    "import statsmodels.api as sm"
   ]
  },
  {
   "cell_type": "markdown",
   "id": "Mcfo6eTXqhIv",
   "metadata": {
    "id": "Mcfo6eTXqhIv",
    "tags": []
   },
   "source": [
    "# Functions"
   ]
  },
  {
   "cell_type": "markdown",
   "id": "f1479739-2411-494e-ab07-ecbf894673e3",
   "metadata": {
    "tags": []
   },
   "source": [
    "## Plots"
   ]
  },
  {
   "cell_type": "code",
   "execution_count": null,
   "id": "l3O9ou4SqqnE",
   "metadata": {
    "id": "l3O9ou4SqqnE"
   },
   "outputs": [],
   "source": [
    "def compute_loess_span(x_input,y_input, steps=0.02):\n",
    "    import numpy as np\n",
    "    from statsmodels.nonparametric.smoothers_lowess import lowess\n",
    "\n",
    "    best_span = 0.51\n",
    "    lowest_SSE = 10e20\n",
    "    \n",
    "    for i in np.arange(1,51,steps*100)/100:\n",
    "        span=i\n",
    "        y_pred = lowess(y_input,x_input, frac=span, it=5, return_sorted = False).T\n",
    "        SSE = ((y_input-y_pred)**2).sum()\n",
    "        if SSE<lowest_SSE:\n",
    "            best_span = i\n",
    "            lowest_SSE = SSE\n",
    "    return (best_span,lowest_SSE)"
   ]
  },
  {
   "cell_type": "code",
   "execution_count": null,
   "id": "DPpi1mKoqwZ0",
   "metadata": {
    "id": "DPpi1mKoqwZ0"
   },
   "outputs": [],
   "source": [
    "def plotTS(df, column, loess=True, regression=True, figsize=(16,4), title='', xlabel='', ylabel='', theme = 'darkgrid', points_alpha = 0.6, custom_ylim=None):\n",
    "    import numpy as np\n",
    "    import seaborn as sns\n",
    "    import matplotlib.pyplot as plt\n",
    "    from sklearn.linear_model import LinearRegression\n",
    "    from statsmodels.nonparametric.smoothers_lowess import lowess\n",
    "\n",
    "\n",
    "    sns.set_style(theme)\n",
    "    plt.figure(figsize=figsize)\n",
    "    plt.scatter(x = df.index, y = df[column], marker='+', alpha=points_alpha, label='Data points')\n",
    "    \n",
    "    if loess==True:\n",
    "        # model fitting\n",
    "        span, sse = compute_loess_span(df.index,df[column])\n",
    "        y_loess = lowess(df[column], df.index,  frac=span, it=5, return_sorted = False).T\n",
    "        #plot\n",
    "        plt.plot(df.index, y_loess, color='tomato', linewidth=2, label='LOESS (span={})'.format(span))\n",
    "    if regression==True:\n",
    "        # model fitting\n",
    "        model = LinearRegression()\n",
    "        x_regr = np.arange(len(df[column])).reshape(-1,1)\n",
    "        model.fit(x_regr,df[column])\n",
    "        coeff = model.coef_[0]\n",
    "        y_predicted = model.predict(x_regr)\n",
    "        #plot\n",
    "        plt.plot(df.index, y_predicted, color='green', label='Regression line (coeff={})'.format(round(coeff,2)))\n",
    "    if custom_ylim != None:\n",
    "        plt.ylim(custom_ylim[0], custom_ylim[1])\n",
    "    plt.xlim(df.index[0],df.index[-1])\n",
    "    plt.title(title, fontsize=14)\n",
    "    plt.xlabel(xlabel)\n",
    "    plt.ylabel(ylabel)\n",
    "    plt.legend()\n",
    "    plt.show()"
   ]
  },
  {
   "cell_type": "code",
   "execution_count": null,
   "id": "c2SqZVm_qzqh",
   "metadata": {
    "id": "c2SqZVm_qzqh"
   },
   "outputs": [],
   "source": [
    "def scalelocationPlot(resid, title='', figsize=(16,8)):\n",
    "    import pandas as pd\n",
    "    import statsmodels.formula.api as smf\n",
    "    import numpy as np\n",
    "    import seaborn as sns\n",
    "    import matplotlib.pyplot as plt\n",
    "    #lm\n",
    "    resid = pd.DataFrame(resid, columns=['resid'])\n",
    "    resid['step'] = range(len(resid))\n",
    "    fit = smf.ols('resid ~ step', data=resid).fit()\n",
    "    \n",
    "    #get values\n",
    "    model_fitted_y = fit.fittedvalues\n",
    "    model_residuals = fit.resid\n",
    "    model_norm_residuals = fit.get_influence().resid_studentized_internal\n",
    "    model_norm_residuals_abs_sqrt = np.sqrt(np.abs(model_norm_residuals))\n",
    "    \n",
    "    #plot\n",
    "    fig = plt.figure(3)\n",
    "    fig.set_figheight(figsize[1])\n",
    "    fig.set_figwidth(figsize[0])\n",
    "    plt.scatter(model_fitted_y, model_norm_residuals_abs_sqrt, alpha=0.5)\n",
    "    sns.regplot(model_fitted_y, model_norm_residuals_abs_sqrt, scatter=False, ci=False, lowess=True,line_kws={'color': 'red', 'lw': 2, 'alpha': 0.8})\n",
    "    fig.axes[0].set_title('Scale-Location {}'.format(title), fontsize=14)\n",
    "    fig.axes[0].set_xlabel('Fitted values')\n",
    "    fig.axes[0].set_ylabel('$\\sqrt{|Standardized Residuals|}$')\n",
    "    plt.show()"
   ]
  },
  {
   "cell_type": "code",
   "execution_count": null,
   "id": "W5oNgSXAq4Nx",
   "metadata": {
    "id": "W5oNgSXAq4Nx"
   },
   "outputs": [],
   "source": [
    "def autocorrelationPlot(data, lags=30, title=''):\n",
    "    from statsmodels.graphics.tsaplots import plot_pacf,plot_acf\n",
    "    import matplotlib.pyplot as plt\n",
    "    \n",
    "    fig = plot_acf(data, lags=lags, title='Auto-correlation for the first {} lags {}'.format(lags, title));\n",
    "    fig.set_figwidth(16)\n",
    "    fig.set_figheight(6)\n",
    "    fig = plot_pacf(data, lags=lags, title='Partial Auto-correlation for the first {} lags {}'.format(lags, title));\n",
    "    fig.set_figwidth(16)\n",
    "    fig.set_figheight(6)\n",
    "    plt.show()"
   ]
  },
  {
   "cell_type": "code",
   "execution_count": null,
   "id": "f2dcf311-3ff0-4eb1-b7a8-fb4a723aae9f",
   "metadata": {},
   "outputs": [],
   "source": [
    "def qqPlot(data, title=''):\n",
    "    fig = sm.qqplot(data, line ='45',fit=True,dist=stats.norm)\n",
    "    fig.set_figheight(8)\n",
    "    fig.set_figwidth(8)\n",
    "    plt.title('Q-Q {}'.format(title))\n",
    "    plt.show()"
   ]
  },
  {
   "cell_type": "markdown",
   "id": "9a6f9792-e01c-4704-b7db-2b87a7a216f6",
   "metadata": {
    "tags": []
   },
   "source": [
    "## Statistical tests"
   ]
  },
  {
   "cell_type": "code",
   "execution_count": null,
   "id": "gW2BL0KErE0a",
   "metadata": {
    "id": "gW2BL0KErE0a"
   },
   "outputs": [],
   "source": [
    "def checkNormality(data, return_data=False):\n",
    "    from scipy.stats import shapiro, jarque_bera, normaltest, skew, kurtosis\n",
    "    \n",
    "    #Shapiro-Wilk\n",
    "    w, p_w = shapiro(data)\n",
    "    print('*** Shapiro-Wilk Test ***')\n",
    "    print('W: ', w)\n",
    "    print('p-value: ' , p_w)\n",
    "    if p_w > .05:\n",
    "        print('Interpretation: the data was drawn from a normal distribution (Ho)')\n",
    "    else:\n",
    "        print('Interpretation: the data was not drawn from a normal distribution (Ha)')\n",
    "    \n",
    "    #Jarque-Bera\n",
    "    jb, p_jb = jarque_bera(data)\n",
    "    print('\\n*** Jarque-Bera Test ***')\n",
    "    print('Jarque-Bera JB: ', jb)\n",
    "    print('p-value: ' , p_jb)\n",
    "    if p_jb > .05:\n",
    "        print('Interpretation: the data was drawn from a normal distribution (Ho)')\n",
    "    else:\n",
    "        print('Interpretation: the data was not drawn from a normal distribution (Ha)')\n",
    "    \n",
    "    #D’Agostino-Pearson\n",
    "    k2, p_k2 = normaltest(data)\n",
    "    print(\"\\n*** D’Agostino-Pearson Test ***\")\n",
    "    print('k2: ', k2)\n",
    "    print('p-value: ' , p_k2)\n",
    "    if p_k2 > .05:\n",
    "        print('Interpretation: the data was drawn from a normal distribution (Ho)')\n",
    "    else:\n",
    "        print('Interpretation: the data was not drawn from a normal distribution (Ha)')\n",
    "\n",
    "    print('\\n----------------------------------------------------------------------')\n",
    "    print('Skewness: ', skew(data))\n",
    "    print('Kurtosis : ', kurtosis(data))\n",
    "    \n",
    "    if return_data==True:\n",
    "        return (w, p_w, jb, p_jb, k2, p_k2)"
   ]
  },
  {
   "cell_type": "code",
   "execution_count": null,
   "id": "a8FhfScbq7rx",
   "metadata": {
    "id": "a8FhfScbq7rx"
   },
   "outputs": [],
   "source": [
    "def checkStationarity(data, kpss_type = 'ct', return_data=False, ci=.95):\n",
    "    alpha = 1-ci\n",
    "    \n",
    "    if kpss_type in ['c','ct']:\n",
    "        import warnings\n",
    "        warnings.filterwarnings('ignore')\n",
    "        from statsmodels.tsa.stattools import adfuller\n",
    "        from statsmodels.tsa.stattools import kpss\n",
    "\n",
    "        adf_test = adfuller(data,autolag='AIC')\n",
    "        print('*** ADF Test ***')\n",
    "        print('ADF Statistic: ', adf_test[0])\n",
    "        print('p-value: ', adf_test[1])\n",
    "        if adf_test[1] > alpha:\n",
    "            print('Interpretation: The time series is non-stationary (Ho)')\n",
    "        else:\n",
    "            print('Interpretation: The time series is stationary (Ha)')\n",
    "\n",
    "        kpss_test = kpss(data, regression=kpss_type, store=True)\n",
    "        print('\\n*** KPSS Test ***')\n",
    "        print('KPSS Statistic:', kpss_test[0])\n",
    "        print('p-value: ', kpss_test[1])\n",
    "\n",
    "        if kpss_type == 'c':\n",
    "            if kpss_test[1] > alpha:\n",
    "                print('Interpretation: The time series is stationary (Ho)')\n",
    "            else:\n",
    "                print('Interpretation: The time series is not stationary (Ha)')\n",
    "        if kpss_type == 'ct':\n",
    "            if kpss_test[1] > alpha:\n",
    "                print('Interpretation: The time series is trend stationary (Ho)')\n",
    "            else:\n",
    "                print('Interpretation: The time series is not trend stationary (Ha)')\n",
    "    else:\n",
    "        print('KPSS type shuld be c or ct!')\n",
    "        print('c: checks if time series is stationary \\nct: checks if time series is trend stationary')\n",
    "    \n",
    "    if return_data==True:\n",
    "        return (adf_test[0],adf_test[1],kpss_test[0],kpss_test[1])"
   ]
  },
  {
   "cell_type": "code",
   "execution_count": null,
   "id": "ZkGTtltbq_lt",
   "metadata": {
    "id": "ZkGTtltbq_lt"
   },
   "outputs": [],
   "source": [
    "def checkHomoscedasticity(resid, return_data=False, robust=False, includeWhite=False):\n",
    "    import pandas as pd\n",
    "    import statsmodels.formula.api as smf\n",
    "    from statsmodels.compat import lzip\n",
    "    import statsmodels.stats.api as sms\n",
    "    from statsmodels.stats.diagnostic import het_white\n",
    "    \n",
    "    resid = pd.DataFrame(resid, columns=['resid'])\n",
    "    resid['step'] = range(len(resid))\n",
    "    fit = smf.ols('resid ~ step', data=resid).fit()\n",
    "    \n",
    "    if robust==False:\n",
    "        #Bresuch-Pagan test\n",
    "        lagrange_mult_statistic, p_value_bp, f_value, f_p_value = sms.het_breuschpagan(fit.resid, fit.model.exog, robust=False)\n",
    "        print('*** Breusch-Pagan Test ***')\n",
    "        print('Lagrange multiplier statistic: ', lagrange_mult_statistic)\n",
    "        print('p-value: ', p_value_bp)\n",
    "        if p_value_bp > .05:\n",
    "            print('Interpretation: Homoscedasticity is present, the residuals are distributed with equal variance (Ho)')\n",
    "        else:\n",
    "            print('Interpretation: Heteroscedasticity is present, the residuals are not distributed with equal variance (Ha)')\n",
    "    else:\n",
    "        #Koenker test\n",
    "        lagrange_mult_statistic, p_value_bp, f_value, f_p_value = sms.het_breuschpagan(fit.resid, fit.model.exog , robust=True)\n",
    "        print('*** Koenker Test ***')\n",
    "        print('Lagrange multiplier statistic: ', lagrange_mult_statistic)\n",
    "        print('p-value: ', p_value_bp)\n",
    "        if p_value_bp > .05:\n",
    "            print('Interpretation: Homoscedasticity is present, the residuals are distributed with equal variance (Ho)')\n",
    "        else:\n",
    "            print('Interpretation: Heteroscedasticity is present, the residuals are not distributed with equal variance (Ha)')\n",
    "\n",
    "    if includeWhite == True:    \n",
    "        #White's test\n",
    "        test_stat, p_value_w, f_stat, f_p_value = het_white(fit.resid,  fit.model.exog)\n",
    "        print(\"\\n*** White's test ***\")\n",
    "        print('Test statistic: ', test_stat)\n",
    "        print('p-value: ', p_value_w)\n",
    "        if p_value_w >.05:\n",
    "            print('Interpretation: Homoscedasticity is present, residuals are equally scattered (Ho)')\n",
    "        else:\n",
    "            print('Interpretation: Heteroscedasticity is present, residuals are not equally scattered (Ha)')\n",
    "        if return_data==True:\n",
    "            return (lagrange_mult_statistic,p_value_bp,test_stat, p_value_w)\n",
    "    else:\n",
    "        if return_data==True:\n",
    "            return (lagrange_mult_statistic,p_value_bp)"
   ]
  },
  {
   "cell_type": "code",
   "execution_count": null,
   "id": "KxJqGYjYrGbn",
   "metadata": {
    "id": "KxJqGYjYrGbn"
   },
   "outputs": [],
   "source": [
    "def checkAutorcorrelation(resid, lags=30, return_data=False):\n",
    "    import pandas as pd\n",
    "    import statsmodels.formula.api as smf\n",
    "    import statsmodels.api as sm\n",
    "    import statsmodels.stats.diagnostic as dg\n",
    "    \n",
    "    #Ljung-Box\n",
    "    lb_result = sm.stats.acorr_ljungbox(resid, lags=[lags], return_df=False)\n",
    "    print(\"*** Ljung-Box Test [{} lags] ***\".format(lags))\n",
    "    print('Q: ', lb_result[0][0])\n",
    "    print('p-value: ' , lb_result[1][0])\n",
    "    if lb_result[1][0]>.05:\n",
    "        print('Interpretation: the residuals are independently distributed (Ho)')\n",
    "    else:\n",
    "        print('Interpretation: The residuals are not independently distributed, they exhibit serial correlation (Ha)')\n",
    "    \n",
    "    #Breusch-Godfrey\n",
    "    resid = pd.DataFrame(resid, columns=['resid'])\n",
    "    resid['step'] = range(len(resid))\n",
    "    fit = smf.ols('resid ~ step', data=resid).fit()\n",
    "    bg_result = dg.acorr_breusch_godfrey(fit, nlags=lags)\n",
    "    print('\\n*** Breusch-Godfrey Test [{} lags] ***'.format(lags))\n",
    "    print('Lagrange multiplier statistic: ', bg_result[0])\n",
    "    print('p-value: ', bg_result[1])\n",
    "    if bg_result[1]>.05:\n",
    "        print('Interpretation: there is no autocorrelation at any order less than or equal to p (Ho)')\n",
    "    else:\n",
    "        print('Interpretation: There exists autocorrelation at some order less than or equal to p (Ha)')\n",
    "    \n",
    "    if return_data==True:\n",
    "        return (lb_result[0][0], lb_result[1][0], bg_result[0], bg_result[1])"
   ]
  },
  {
   "cell_type": "markdown",
   "id": "4c5b9710",
   "metadata": {
    "id": "4c5b9710",
    "tags": []
   },
   "source": [
    "# Data loading"
   ]
  },
  {
   "cell_type": "code",
   "execution_count": null,
   "id": "7edc7e24",
   "metadata": {
    "id": "7edc7e24"
   },
   "outputs": [],
   "source": [
    "sales_df = pd.read_csv('https://raw.githubusercontent.com/bolps/items_forecasting/main/Item_sales_ts.csv', sep=',', parse_dates=['date'])"
   ]
  },
  {
   "cell_type": "code",
   "execution_count": null,
   "id": "90a73da1",
   "metadata": {
    "colab": {
     "base_uri": "https://localhost:8080/",
     "height": 531
    },
    "executionInfo": {
     "elapsed": 27,
     "status": "ok",
     "timestamp": 1644330956611,
     "user": {
      "displayName": "Marco Bolpagni",
      "photoUrl": "https://lh3.googleusercontent.com/a-/AOh14GiJpvH-twbKQhT-1BI6JiA4UndW7ty1fGANN0O6l0E=s64",
      "userId": "03458684448778304647"
     },
     "user_tz": -60
    },
    "id": "90a73da1",
    "outputId": "96779005-110c-4598-ad64-b61fe461f481"
   },
   "outputs": [],
   "source": [
    "display(sales_df)\n",
    "display(type(sales_df))\n",
    "display(sales_df.dtypes)"
   ]
  },
  {
   "cell_type": "code",
   "execution_count": null,
   "id": "5ed4ea46",
   "metadata": {
    "colab": {
     "base_uri": "https://localhost:8080/"
    },
    "executionInfo": {
     "elapsed": 293,
     "status": "ok",
     "timestamp": 1644330959088,
     "user": {
      "displayName": "Marco Bolpagni",
      "photoUrl": "https://lh3.googleusercontent.com/a-/AOh14GiJpvH-twbKQhT-1BI6JiA4UndW7ty1fGANN0O6l0E=s64",
      "userId": "03458684448778304647"
     },
     "user_tz": -60
    },
    "id": "5ed4ea46",
    "outputId": "2e6df664-28a0-48ab-9acd-dea024edb9ff"
   },
   "outputs": [],
   "source": [
    "sales_df.isna().sum()"
   ]
  },
  {
   "cell_type": "code",
   "execution_count": null,
   "id": "8a583ff4",
   "metadata": {
    "colab": {
     "base_uri": "https://localhost:8080/"
    },
    "executionInfo": {
     "elapsed": 29,
     "status": "ok",
     "timestamp": 1644330959427,
     "user": {
      "displayName": "Marco Bolpagni",
      "photoUrl": "https://lh3.googleusercontent.com/a-/AOh14GiJpvH-twbKQhT-1BI6JiA4UndW7ty1fGANN0O6l0E=s64",
      "userId": "03458684448778304647"
     },
     "user_tz": -60
    },
    "id": "8a583ff4",
    "outputId": "35cdf6aa-a59e-4f5d-ee58-e2006730ff41"
   },
   "outputs": [],
   "source": [
    "sales_df.duplicated().sum()"
   ]
  },
  {
   "cell_type": "markdown",
   "id": "0816ab61-5fe0-4479-b23b-072bbd4865d1",
   "metadata": {},
   "source": [
    "There are no missing or duplicated values."
   ]
  },
  {
   "cell_type": "markdown",
   "id": "9b3d0ff0",
   "metadata": {
    "id": "9b3d0ff0",
    "tags": []
   },
   "source": [
    "# Data manipulation"
   ]
  },
  {
   "cell_type": "code",
   "execution_count": null,
   "id": "039c439e",
   "metadata": {
    "id": "039c439e"
   },
   "outputs": [],
   "source": [
    "sales_by_store = pd.pivot_table(data=sales_df, index='date', columns='store', values='sales', aggfunc='sum')\n",
    "sales_by_store.columns = ['store_{}'.format(i) for i in range(1,11)]"
   ]
  },
  {
   "cell_type": "code",
   "execution_count": null,
   "id": "7105007d",
   "metadata": {
    "colab": {
     "base_uri": "https://localhost:8080/",
     "height": 814
    },
    "executionInfo": {
     "elapsed": 12,
     "status": "ok",
     "timestamp": 1644330960841,
     "user": {
      "displayName": "Marco Bolpagni",
      "photoUrl": "https://lh3.googleusercontent.com/a-/AOh14GiJpvH-twbKQhT-1BI6JiA4UndW7ty1fGANN0O6l0E=s64",
      "userId": "03458684448778304647"
     },
     "user_tz": -60
    },
    "id": "7105007d",
    "outputId": "110e7897-6560-48fe-f021-6cb963b00167"
   },
   "outputs": [],
   "source": [
    "display(sales_by_store)\n",
    "display(type(sales_by_store))\n",
    "display(sales_by_store.dtypes)\n",
    "display(sales_by_store.index)"
   ]
  },
  {
   "cell_type": "code",
   "execution_count": null,
   "id": "bfc6fb5b",
   "metadata": {
    "colab": {
     "base_uri": "https://localhost:8080/",
     "height": 160
    },
    "executionInfo": {
     "elapsed": 14,
     "status": "ok",
     "timestamp": 1644330961743,
     "user": {
      "displayName": "Marco Bolpagni",
      "photoUrl": "https://lh3.googleusercontent.com/a-/AOh14GiJpvH-twbKQhT-1BI6JiA4UndW7ty1fGANN0O6l0E=s64",
      "userId": "03458684448778304647"
     },
     "user_tz": -60
    },
    "id": "bfc6fb5b",
    "outputId": "faff89bc-824b-4b6f-d242-6ffd35b1738e"
   },
   "outputs": [],
   "source": [
    "# Converting the index as date with daily frequency\n",
    "sales_by_store.index = pd.to_datetime(sales_by_store.index)\n",
    "sales_by_store = sales_by_store.asfreq('d')\n",
    "display(sales_by_store.index)"
   ]
  },
  {
   "cell_type": "markdown",
   "id": "ac03e00f",
   "metadata": {
    "id": "ac03e00f",
    "tags": []
   },
   "source": [
    "# Data exploration"
   ]
  },
  {
   "cell_type": "markdown",
   "id": "427609a8-e0e2-4227-8afb-d0c1826fb088",
   "metadata": {},
   "source": [
    "In order to unserstand and explore the charateristics of the dataset I defined some research questions regarding store performance, item preference and market in general."
   ]
  },
  {
   "cell_type": "markdown",
   "id": "73f2c9ce",
   "metadata": {
    "id": "73f2c9ce",
    "tags": []
   },
   "source": [
    "## Analizing sales\n",
    "\n",
    ">**Q1:** *Is market growing?*\n",
    "\n",
    ">**Q2:** *Which are the best stores?*\n",
    "\n",
    ">**Q3:** *Are sales between stores correlated?*\n",
    "\n",
    ">**Q4:** *Which is the best month? And the best weekday?*\n",
    "\n",
    ">**Q5:** *Which are the top 15 best selling items?*\n",
    "\n",
    ">**Q6:** *Are top 15 items associated with specifc stores?*"
   ]
  },
  {
   "cell_type": "markdown",
   "id": "8bb9682d",
   "metadata": {
    "id": "8bb9682d",
    "tags": []
   },
   "source": [
    "### [Q1] *Is market growing?*"
   ]
  },
  {
   "cell_type": "code",
   "execution_count": null,
   "id": "3fe749e2",
   "metadata": {
    "colab": {
     "base_uri": "https://localhost:8080/",
     "height": 143
    },
    "executionInfo": {
     "elapsed": 269,
     "status": "ok",
     "timestamp": 1644330964087,
     "user": {
      "displayName": "Marco Bolpagni",
      "photoUrl": "https://lh3.googleusercontent.com/a-/AOh14GiJpvH-twbKQhT-1BI6JiA4UndW7ty1fGANN0O6l0E=s64",
      "userId": "03458684448778304647"
     },
     "user_tz": -60
    },
    "id": "3fe749e2",
    "outputId": "e12b98e3-b4aa-4d15-fa93-194aa7215bce"
   },
   "outputs": [],
   "source": [
    "sales_total = sales_by_store.sum(axis=1)\n",
    "sales_total_by_year = sales_total.resample('Y').sum()\n",
    "sales_total_by_year.index = sales_total_by_year.index.year\n",
    "sales_total_by_year = sales_total_by_year/1000000\n",
    "display(sales_total_by_year)"
   ]
  },
  {
   "cell_type": "code",
   "execution_count": null,
   "id": "f56c35ce",
   "metadata": {
    "colab": {
     "base_uri": "https://localhost:8080/",
     "height": 530
    },
    "executionInfo": {
     "elapsed": 700,
     "status": "ok",
     "timestamp": 1644330965596,
     "user": {
      "displayName": "Marco Bolpagni",
      "photoUrl": "https://lh3.googleusercontent.com/a-/AOh14GiJpvH-twbKQhT-1BI6JiA4UndW7ty1fGANN0O6l0E=s64",
      "userId": "03458684448778304647"
     },
     "user_tz": -60
    },
    "id": "f56c35ce",
    "outputId": "de6bdf32-3b65-45ed-d579-99b613f97865"
   },
   "outputs": [],
   "source": [
    "plt.figure(figsize=(18,8))\n",
    "sns.set_style('whitegrid')\n",
    "sales_total_by_year.plot(kind='bar', rot=0, ylabel='Items sold (millions units)', xlabel='Year')\n",
    "plt.title('Market growth \\n total items sold - all stores', fontsize=14)\n",
    "plt.show()"
   ]
  },
  {
   "cell_type": "markdown",
   "id": "3f8bc49c-1683-40f0-adb7-e4fababe394d",
   "metadata": {},
   "source": [
    "The market is growing, the number of items sold is increased every year from 2013 to 2017 reaching a peak of 10.75 millions unit sold.\n",
    "\n",
    "*Note: As I am measuring the whole market performance i summed sales from every store/item*"
   ]
  },
  {
   "cell_type": "markdown",
   "id": "e083010b",
   "metadata": {
    "id": "e083010b",
    "tags": []
   },
   "source": [
    "### [Q2] *Which are the best stores?*"
   ]
  },
  {
   "cell_type": "code",
   "execution_count": null,
   "id": "-UWIRafltsMg",
   "metadata": {
    "colab": {
     "base_uri": "https://localhost:8080/",
     "height": 623
    },
    "executionInfo": {
     "elapsed": 602,
     "status": "ok",
     "timestamp": 1644330967689,
     "user": {
      "displayName": "Marco Bolpagni",
      "photoUrl": "https://lh3.googleusercontent.com/a-/AOh14GiJpvH-twbKQhT-1BI6JiA4UndW7ty1fGANN0O6l0E=s64",
      "userId": "03458684448778304647"
     },
     "user_tz": -60
    },
    "id": "-UWIRafltsMg",
    "outputId": "74eb89f0-3ab0-4065-afff-7ad63b856769"
   },
   "outputs": [],
   "source": [
    "fig = plt.figure(figsize=(18,10))\n",
    "ax  = fig.add_subplot()\n",
    "sns.set_style('whitegrid')\n",
    "sns.boxplot(x=\"variable\", y=\"value\", data=pd.melt(sales_by_store), palette='Paired', width=0.65)\n",
    "plt.title('Store benchmark', fontsize=14)\n",
    "plt.xlabel('Store')\n",
    "plt.ylabel('Items sold (unit/day)')\n",
    "plt.show()"
   ]
  },
  {
   "cell_type": "markdown",
   "id": "dda25892-85a9-4444-a461-4442afd78ed0",
   "metadata": {},
   "source": [
    "Thanks to the boxplot it is possible to appreciate that store 2 and store 8 are the best performers, while store 5, 5 and 7 are the worst.\n",
    "It is also possible to observe that the variability increase as the sales goes up (this is a typicall of almost all sales data)."
   ]
  },
  {
   "cell_type": "markdown",
   "id": "68b4ed38",
   "metadata": {
    "id": "68b4ed38",
    "tags": []
   },
   "source": [
    "### [Q3] *Are sales between stores correlated?*"
   ]
  },
  {
   "cell_type": "code",
   "execution_count": null,
   "id": "52e37363",
   "metadata": {
    "colab": {
     "base_uri": "https://localhost:8080/",
     "height": 449
    },
    "executionInfo": {
     "elapsed": 2192,
     "status": "ok",
     "timestamp": 1644330971551,
     "user": {
      "displayName": "Marco Bolpagni",
      "photoUrl": "https://lh3.googleusercontent.com/a-/AOh14GiJpvH-twbKQhT-1BI6JiA4UndW7ty1fGANN0O6l0E=s64",
      "userId": "03458684448778304647"
     },
     "user_tz": -60
    },
    "id": "52e37363",
    "outputId": "7dde0d39-6309-443e-84af-05a65a49ab3f"
   },
   "outputs": [],
   "source": [
    "cmap = sns.diverging_palette(230, 20, as_cmap=True)\n",
    "\n",
    "mat_coeff = []\n",
    "mat_pval = []\n",
    "for i in list(range(len(sales_by_store.columns))):\n",
    "    row_coeff = []\n",
    "    row_pval = []\n",
    "    for j in list(range(len(sales_by_store.columns))):\n",
    "        temp = stats.pearsonr(sales_by_store.iloc[:,i],sales_by_store.iloc[:,j])\n",
    "        row_coeff.append(temp[0])\n",
    "        row_pval.append(temp[1])\n",
    "    mat_coeff.append(row_coeff)\n",
    "    mat_pval.append(row_pval)\n",
    "\n",
    "fig, axes = plt.subplots(1, 2, figsize=(16, 6))\n",
    "sns.heatmap(mat_coeff, annot=True,  cmap=cmap,square=True,ax=axes[0],annot_kws={\"size\":10}, vmin=-1, vmax=1, xticklabels=sales_by_store.columns, yticklabels=sales_by_store.columns)\n",
    "axes[0].set_title('r-value')\n",
    "sns.heatmap(mat_pval, annot=True,  cmap=cmap,square=True,ax=axes[1],annot_kws={\"size\":10}, vmin=0, vmax=1, xticklabels=sales_by_store.columns, yticklabels=sales_by_store.columns)\n",
    "axes[1].set_title('p-value')\n",
    "fig.suptitle('Sales correlation between stores', fontsize=14)\n",
    "plt.show()"
   ]
  },
  {
   "cell_type": "markdown",
   "id": "a507784c-508a-4752-9294-c81bb8a76335",
   "metadata": {},
   "source": [
    "Sales between stores shows an almost perfect correlation, this is really strange as in real life performance depends on many factors and close store can compete for the customers. This dataset could be synthetic."
   ]
  },
  {
   "cell_type": "markdown",
   "id": "2e82a52b",
   "metadata": {
    "id": "2e82a52b",
    "tags": []
   },
   "source": [
    "### [Q4] *Which is the best month? And the best weekday?*"
   ]
  },
  {
   "cell_type": "code",
   "execution_count": null,
   "id": "a3c49fa2",
   "metadata": {
    "colab": {
     "base_uri": "https://localhost:8080/",
     "height": 454
    },
    "executionInfo": {
     "elapsed": 536,
     "status": "ok",
     "timestamp": 1644330973373,
     "user": {
      "displayName": "Marco Bolpagni",
      "photoUrl": "https://lh3.googleusercontent.com/a-/AOh14GiJpvH-twbKQhT-1BI6JiA4UndW7ty1fGANN0O6l0E=s64",
      "userId": "03458684448778304647"
     },
     "user_tz": -60
    },
    "id": "a3c49fa2",
    "outputId": "2e6bc9fd-422c-43f1-95f9-e59b1a48d841"
   },
   "outputs": [],
   "source": [
    "sales_groupby = sales_df[['date','store','sales']].groupby(['date','store']).sum()\n",
    "sales_groupby['month'] = (sales_groupby.index).to_series().map(lambda x : x[0].month)\n",
    "sales_groupby['weekday'] = (sales_groupby.index).to_series().map(lambda x : x[0].isoweekday())\n",
    "display(sales_groupby)"
   ]
  },
  {
   "cell_type": "code",
   "execution_count": null,
   "id": "6fc550fb",
   "metadata": {
    "colab": {
     "base_uri": "https://localhost:8080/",
     "height": 623
    },
    "executionInfo": {
     "elapsed": 839,
     "status": "ok",
     "timestamp": 1644330975101,
     "user": {
      "displayName": "Marco Bolpagni",
      "photoUrl": "https://lh3.googleusercontent.com/a-/AOh14GiJpvH-twbKQhT-1BI6JiA4UndW7ty1fGANN0O6l0E=s64",
      "userId": "03458684448778304647"
     },
     "user_tz": -60
    },
    "id": "6fc550fb",
    "outputId": "d71454bc-2af6-4445-d03d-d99d9dbe29b5"
   },
   "outputs": [],
   "source": [
    "fig = plt.figure(figsize=(18,10))\n",
    "ax  = fig.add_subplot()\n",
    "sns.set_style('whitegrid')\n",
    "sns.boxplot(data=sales_groupby, x='month', y='sales', palette='Paired', width=0.65)\n",
    "plt.title('Month benchmark', fontsize=14)\n",
    "plt.ylabel('Items sold (unit/day)')\n",
    "ax.set_xticklabels(['Jan','Feb','Mar','Apr','May','Jun','Jul','Aug','Sep','Oct','Nov','Dec'])\n",
    "plt.show()"
   ]
  },
  {
   "cell_type": "code",
   "execution_count": null,
   "id": "541f8620",
   "metadata": {
    "colab": {
     "base_uri": "https://localhost:8080/",
     "height": 623
    },
    "executionInfo": {
     "elapsed": 574,
     "status": "ok",
     "timestamp": 1644330976462,
     "user": {
      "displayName": "Marco Bolpagni",
      "photoUrl": "https://lh3.googleusercontent.com/a-/AOh14GiJpvH-twbKQhT-1BI6JiA4UndW7ty1fGANN0O6l0E=s64",
      "userId": "03458684448778304647"
     },
     "user_tz": -60
    },
    "id": "541f8620",
    "outputId": "2cd17da5-1098-4180-a47c-dc355598ff75"
   },
   "outputs": [],
   "source": [
    "fig = plt.figure(figsize=(18,10))\n",
    "ax  = fig.add_subplot()\n",
    "sns.set_style('whitegrid')\n",
    "sns.boxplot(data=sales_groupby, x='weekday', y='sales', palette='Paired', width=0.4)\n",
    "plt.title('Weekday benchmark', fontsize=14)\n",
    "plt.ylabel('Items sold (unit/day)')\n",
    "ax.set_xticklabels(['Mon','Tue','Wed','Thu','Fri','Sat','Sun'])\n",
    "plt.show()"
   ]
  },
  {
   "cell_type": "markdown",
   "id": "bf0697fc-9c0e-4b65-9d27-4033bfc50d10",
   "metadata": {},
   "source": [
    "Sales are better in summer, but november shows a positive peak. July is the best month and sales goes up from monday to sunday."
   ]
  },
  {
   "cell_type": "markdown",
   "id": "4c2acaea",
   "metadata": {
    "id": "4c2acaea",
    "tags": []
   },
   "source": [
    "### [Q5] *Which are the top 15 best selling items?*"
   ]
  },
  {
   "cell_type": "code",
   "execution_count": null,
   "id": "616f9e15",
   "metadata": {
    "colab": {
     "base_uri": "https://localhost:8080/",
     "height": 550
    },
    "executionInfo": {
     "elapsed": 322,
     "status": "ok",
     "timestamp": 1644330978687,
     "user": {
      "displayName": "Marco Bolpagni",
      "photoUrl": "https://lh3.googleusercontent.com/a-/AOh14GiJpvH-twbKQhT-1BI6JiA4UndW7ty1fGANN0O6l0E=s64",
      "userId": "03458684448778304647"
     },
     "user_tz": -60
    },
    "id": "616f9e15",
    "outputId": "5ce55b6a-b06d-4823-a01d-a9ef4e17605b"
   },
   "outputs": [],
   "source": [
    "sales_groupby_item = sales_df[['item','sales']].groupby(['item']).sum()\n",
    "sales_groupby_item = sales_groupby_item.sort_values(by='sales', ascending=False)\n",
    "sales_groupby_item['sales (millions units)'] = round(sales_groupby_item['sales']/1000000,3)\n",
    "top_15_items = sales_groupby_item.head(15)\n",
    "top_15_items.index = top_15_items.index.astype(str)\n",
    "display(top_15_items)"
   ]
  },
  {
   "cell_type": "code",
   "execution_count": null,
   "id": "60cf6b91",
   "metadata": {
    "colab": {
     "base_uri": "https://localhost:8080/",
     "height": 623
    },
    "executionInfo": {
     "elapsed": 638,
     "status": "ok",
     "timestamp": 1644330980435,
     "user": {
      "displayName": "Marco Bolpagni",
      "photoUrl": "https://lh3.googleusercontent.com/a-/AOh14GiJpvH-twbKQhT-1BI6JiA4UndW7ty1fGANN0O6l0E=s64",
      "userId": "03458684448778304647"
     },
     "user_tz": -60
    },
    "id": "60cf6b91",
    "outputId": "b39f923b-ed51-407a-a909-f710bececada"
   },
   "outputs": [],
   "source": [
    "top_15_items = top_15_items.sort_values(by='sales', ascending=True)\n",
    "plt.figure(figsize=(18,10))\n",
    "sns.set_style('whitegrid')\n",
    "plt.barh(top_15_items.index, top_15_items['sales (millions units)'], color= sns.color_palette(\"Paired\"))\n",
    "plt.title('Best sellers', fontsize=14)\n",
    "plt.xlabel('Units sold (in millions)')\n",
    "plt.ylabel('Product code')\n",
    "plt.show()"
   ]
  },
  {
   "cell_type": "markdown",
   "id": "d5e98dfa-c8d4-4128-b2c3-11d05f555365",
   "metadata": {},
   "source": [
    "Pruduct 15, 28 and 28 are the best sellers."
   ]
  },
  {
   "cell_type": "markdown",
   "id": "9e497c31",
   "metadata": {
    "id": "9e497c31",
    "tags": []
   },
   "source": [
    "### [Q6] *Are top 15 items sales associated to specifc stores?*"
   ]
  },
  {
   "cell_type": "code",
   "execution_count": null,
   "id": "d29586db",
   "metadata": {
    "colab": {
     "base_uri": "https://localhost:8080/",
     "height": 550
    },
    "executionInfo": {
     "elapsed": 223,
     "status": "ok",
     "timestamp": 1644330982018,
     "user": {
      "displayName": "Marco Bolpagni",
      "photoUrl": "https://lh3.googleusercontent.com/a-/AOh14GiJpvH-twbKQhT-1BI6JiA4UndW7ty1fGANN0O6l0E=s64",
      "userId": "03458684448778304647"
     },
     "user_tz": -60
    },
    "id": "d29586db",
    "outputId": "4710e90c-1779-4a7a-d06a-2287a6ec8bb5"
   },
   "outputs": [],
   "source": [
    "sales_store_item = pd.pivot_table(data=sales_df, index='item', columns='store', values='sales', aggfunc='sum')\n",
    "sales_store_item.index = sales_store_item.index.astype(str)\n",
    "sales_store_item.columns = sales_store_item.columns.astype(str)\n",
    "sales_store_item_top15 = sales_store_item.loc[top_15_items.index]\n",
    "display(sales_store_item_top15)"
   ]
  },
  {
   "cell_type": "code",
   "execution_count": null,
   "id": "9e2e9769",
   "metadata": {
    "colab": {
     "base_uri": "https://localhost:8080/"
    },
    "executionInfo": {
     "elapsed": 265,
     "status": "ok",
     "timestamp": 1644330983225,
     "user": {
      "displayName": "Marco Bolpagni",
      "photoUrl": "https://lh3.googleusercontent.com/a-/AOh14GiJpvH-twbKQhT-1BI6JiA4UndW7ty1fGANN0O6l0E=s64",
      "userId": "03458684448778304647"
     },
     "user_tz": -60
    },
    "id": "9e2e9769",
    "outputId": "55c319bd-76ba-4ee4-e557-bb1579f34e6a"
   },
   "outputs": [],
   "source": [
    "stat, p, dof, expected = chi2_contingency(sales_store_item_top15)\n",
    "print('dof=%d' % dof)\n",
    "# interpret test-statistic\n",
    "prob = 0.95\n",
    "critical = chi2.ppf(prob, dof)\n",
    "print('probability=%.3f, critical=%.3f, stat=%.3f' % (prob, critical, stat))\n",
    "\n",
    "# interpret p-value\n",
    "alpha = 1.0 - prob\n",
    "print('significance=%.3f, p=%.3f' % (alpha, p))\n",
    "if p <= alpha:\n",
    "    print('Dependent (reject H0)')\n",
    "else:\n",
    "    print('Independent (fail to reject H0)')"
   ]
  },
  {
   "cell_type": "markdown",
   "id": "4a00eab4-94a8-4f2f-8fcc-5cf5c215b860",
   "metadata": {},
   "source": [
    "Sales of best selling items are equally distributed between stores, this again is really unlikely in real life (stores usally focus on selling something in particular).\n",
    "This behavior is consistent if applied to all products."
   ]
  },
  {
   "cell_type": "markdown",
   "id": "7b851a71",
   "metadata": {
    "id": "7b851a71",
    "tags": []
   },
   "source": [
    "# Focus on Time Series [Total items sold per store]"
   ]
  },
  {
   "cell_type": "code",
   "execution_count": null,
   "id": "8f8a5c9c",
   "metadata": {
    "colab": {
     "base_uri": "https://localhost:8080/",
     "height": 362
    },
    "executionInfo": {
     "elapsed": 10,
     "status": "ok",
     "timestamp": 1644330984774,
     "user": {
      "displayName": "Marco Bolpagni",
      "photoUrl": "https://lh3.googleusercontent.com/a-/AOh14GiJpvH-twbKQhT-1BI6JiA4UndW7ty1fGANN0O6l0E=s64",
      "userId": "03458684448778304647"
     },
     "user_tz": -60
    },
    "id": "8f8a5c9c",
    "outputId": "b108d110-9d2e-4b71-cb99-319d852d6e07"
   },
   "outputs": [],
   "source": [
    "descriptive_stat = sales_by_store.describe().T\n",
    "\n",
    "Q1 = sales_by_store.quantile(0.25)\n",
    "Q3 = sales_by_store.quantile(0.75)\n",
    "IQR = Q3 - Q1\n",
    "\n",
    "outlier_lower_count = (sales_by_store < (Q1 - 1.5 * IQR)).sum()\n",
    "outlier_upper_count = (sales_by_store > (Q3 + 1.5 * IQR)).sum()\n",
    "outlier_total_count = outlier_lower_count + outlier_upper_count\n",
    "\n",
    "descriptive_stat['range']=descriptive_stat['max']-descriptive_stat['min']\n",
    "descriptive_stat['IQR']=descriptive_stat['75%']-descriptive_stat['25%']\n",
    "descriptive_stat['outlier_lower_count'] = outlier_lower_count\n",
    "descriptive_stat['outlier_upper_count'] = outlier_upper_count\n",
    "descriptive_stat['outlier_total_count'] = outlier_total_count\n",
    "\n",
    "display(round(descriptive_stat,2))"
   ]
  },
  {
   "cell_type": "markdown",
   "id": "4cd9a6cf-4aaf-4b98-a4ea-58597e3b180c",
   "metadata": {},
   "source": [
    "Sales have different mean and standard deviation between stores, all stores have no outlier under the lower bound and just a few over the upper bound. This again is really unlikely in real life because there are good and bad days in terms of sales and also holidays (christmas, black friday, thanksgiving day)."
   ]
  },
  {
   "cell_type": "code",
   "execution_count": null,
   "id": "2b61a987",
   "metadata": {
    "colab": {
     "base_uri": "https://localhost:8080/",
     "height": 1000
    },
    "executionInfo": {
     "elapsed": 48948,
     "status": "ok",
     "timestamp": 1644331034838,
     "user": {
      "displayName": "Marco Bolpagni",
      "photoUrl": "https://lh3.googleusercontent.com/a-/AOh14GiJpvH-twbKQhT-1BI6JiA4UndW7ty1fGANN0O6l0E=s64",
      "userId": "03458684448778304647"
     },
     "user_tz": -60
    },
    "id": "2b61a987",
    "outputId": "50dfdc75-1ed5-487a-9b0f-ce427bed3cef"
   },
   "outputs": [],
   "source": [
    "for store in sales_by_store.columns:\n",
    "    store_number = store.split('_')[1]\n",
    "    plotTS(sales_by_store, column=store, custom_ylim=(0,6000), title='Sales [Store {}]'.format(store_number), xlabel='Date', ylabel='Items sold (unit/day)')"
   ]
  },
  {
   "cell_type": "markdown",
   "id": "04033653",
   "metadata": {
    "id": "04033653"
   },
   "source": [
    "Very high correlation (almost perfect) between sales in different stores and the same time pattern suggest that the data is likely to be synthetic. This 10 time series are kind of the same but with different trend and level.\n",
    "I decide to focus on the study and the modelling of just one time serie. I choose store 2 because it shows the highest variability (an interesting aspect to study) that can be not so visible in other stores. "
   ]
  },
  {
   "cell_type": "markdown",
   "id": "e8c3947c",
   "metadata": {
    "id": "e8c3947c",
    "tags": []
   },
   "source": [
    "# In depth analysis [Store 2]"
   ]
  },
  {
   "cell_type": "markdown",
   "id": "cd87bc9d-86a5-4528-9155-4926d325aa80",
   "metadata": {
    "tags": []
   },
   "source": [
    "## Graphical inspection"
   ]
  },
  {
   "cell_type": "code",
   "execution_count": null,
   "id": "afbcfb07",
   "metadata": {
    "id": "afbcfb07"
   },
   "outputs": [],
   "source": [
    "store2_ts = pd.DataFrame(sales_by_store['store_2'])"
   ]
  },
  {
   "cell_type": "code",
   "execution_count": null,
   "id": "fcacaee1",
   "metadata": {
    "colab": {
     "base_uri": "https://localhost:8080/",
     "height": 391
    },
    "executionInfo": {
     "elapsed": 5388,
     "status": "ok",
     "timestamp": 1644331045285,
     "user": {
      "displayName": "Marco Bolpagni",
      "photoUrl": "https://lh3.googleusercontent.com/a-/AOh14GiJpvH-twbKQhT-1BI6JiA4UndW7ty1fGANN0O6l0E=s64",
      "userId": "03458684448778304647"
     },
     "user_tz": -60
    },
    "id": "fcacaee1",
    "outputId": "07731e54-3704-467b-ec63-f863a36995ad"
   },
   "outputs": [],
   "source": [
    "plotTS(store2_ts, column='store_2', custom_ylim=(0,6000), figsize=(16,4), title='Sales [Store 2]', xlabel='Date', ylabel='Items sold (unit/day)')"
   ]
  },
  {
   "cell_type": "code",
   "execution_count": null,
   "id": "c7f8a9c7",
   "metadata": {
    "colab": {
     "base_uri": "https://localhost:8080/",
     "height": 417
    },
    "executionInfo": {
     "elapsed": 1402,
     "status": "ok",
     "timestamp": 1644331049079,
     "user": {
      "displayName": "Marco Bolpagni",
      "photoUrl": "https://lh3.googleusercontent.com/a-/AOh14GiJpvH-twbKQhT-1BI6JiA4UndW7ty1fGANN0O6l0E=s64",
      "userId": "03458684448778304647"
     },
     "user_tz": -60
    },
    "id": "c7f8a9c7",
    "outputId": "ec1f396c-ed7f-4b28-bfed-6e6357012cfb"
   },
   "outputs": [],
   "source": [
    "fig = store2_ts[0:365].plot(figsize=(16,4), title='Sales 2013 [Store 2] - Item sales')\n",
    "fig.axes.title.set_size(14)\n",
    "plt.xlabel('Date')\n",
    "plt.ylabel('Items sold (unit/day)')\n",
    "plt.ylim(0,6000)\n",
    "plt.show()"
   ]
  },
  {
   "cell_type": "markdown",
   "id": "52257484",
   "metadata": {
    "id": "52257484"
   },
   "source": [
    "**Impressions from plots:**\n",
    "\n",
    "From a graphical point of view, the time series I am studying shows some interesting characteristics that may be useful in defining the next steps. The time series has a non-stationary nature with a consistent increasing trend and at the same time it doesn't show breakpoints. There is graphical evidence of seasonality, in particular of both a weekly pattern and an annual cycle (also suggested by the boxplots of the exploratory analysis). It also seems to present the typical behavior that can be observed in most of the data relating to the sales of products in which as the number of units sold increases, so does the variance. If confirmed this might configure a situation where the trend is additive and seasonality multiplicative."
   ]
  },
  {
   "cell_type": "markdown",
   "id": "95e41d17",
   "metadata": {
    "id": "95e41d17",
    "tags": []
   },
   "source": [
    "## Mathematical and statistical evidence"
   ]
  },
  {
   "cell_type": "markdown",
   "id": "950c84e1-d115-43de-808a-70754be44307",
   "metadata": {},
   "source": [
    "To test the graphical intuitions and gain other insights the following steps have been carried on:\n",
    "1. Stationarity tests for having a statistical evidence of non stationarity, but also evidence of trend stationarity.\n",
    "2. Power Spectral Density for seasonality (and cycle) investigation\n",
    "3. Ljung-Box and Breusch-Godfrey test for statistical evidence of autocorrelation (alongiside Autocorrelation and Partial-Autocorrelation plots)\n",
    "3. Decomposition and residuals analysis. In particular I will apply an additive model in order to verify, by studying the residuals, if the variance vary over time. If this is the case I will expect to find heteroscedasticity in the residuals (that will be tested with appropriate statistical tests)."
   ]
  },
  {
   "cell_type": "markdown",
   "id": "ae6ce1ba",
   "metadata": {
    "id": "ae6ce1ba",
    "tags": []
   },
   "source": [
    "### Stationarity"
   ]
  },
  {
   "cell_type": "code",
   "execution_count": null,
   "id": "273cb90e",
   "metadata": {
    "colab": {
     "base_uri": "https://localhost:8080/"
    },
    "executionInfo": {
     "elapsed": 227,
     "status": "ok",
     "timestamp": 1644331057207,
     "user": {
      "displayName": "Marco Bolpagni",
      "photoUrl": "https://lh3.googleusercontent.com/a-/AOh14GiJpvH-twbKQhT-1BI6JiA4UndW7ty1fGANN0O6l0E=s64",
      "userId": "03458684448778304647"
     },
     "user_tz": -60
    },
    "id": "273cb90e",
    "outputId": "a174057e-2a39-4fd2-dc58-9f4c0ab714af"
   },
   "outputs": [],
   "source": [
    "checkStationarity(store2_ts['store_2'], kpss_type='c')"
   ]
  },
  {
   "cell_type": "code",
   "execution_count": null,
   "id": "51ef5f43",
   "metadata": {
    "colab": {
     "base_uri": "https://localhost:8080/"
    },
    "executionInfo": {
     "elapsed": 413,
     "status": "ok",
     "timestamp": 1644331058981,
     "user": {
      "displayName": "Marco Bolpagni",
      "photoUrl": "https://lh3.googleusercontent.com/a-/AOh14GiJpvH-twbKQhT-1BI6JiA4UndW7ty1fGANN0O6l0E=s64",
      "userId": "03458684448778304647"
     },
     "user_tz": -60
    },
    "id": "51ef5f43",
    "outputId": "bbcaa097-fbf3-4c79-a701-aed08e0f99a2"
   },
   "outputs": [],
   "source": [
    "checkStationarity(store2_ts['store_2'], kpss_type='ct')"
   ]
  },
  {
   "cell_type": "markdown",
   "id": "56eea95e",
   "metadata": {
    "id": "56eea95e",
    "tags": []
   },
   "source": [
    "### Power Spectral Density"
   ]
  },
  {
   "cell_type": "code",
   "execution_count": null,
   "id": "1b1e4bea",
   "metadata": {
    "colab": {
     "base_uri": "https://localhost:8080/",
     "height": 625
    },
    "executionInfo": {
     "elapsed": 699,
     "status": "ok",
     "timestamp": 1644331063049,
     "user": {
      "displayName": "Marco Bolpagni",
      "photoUrl": "https://lh3.googleusercontent.com/a-/AOh14GiJpvH-twbKQhT-1BI6JiA4UndW7ty1fGANN0O6l0E=s64",
      "userId": "03458684448778304647"
     },
     "user_tz": -60
    },
    "id": "1b1e4bea",
    "outputId": "75234874-ce89-4f0c-cb70-7d2d3ccfc850"
   },
   "outputs": [],
   "source": [
    "Fs = 1\n",
    "f_per, Pxx_per = signal.periodogram(store2_ts['store_2'],Fs,window=None,return_onesided=True,scaling='density')\n",
    "sns.set_style('darkgrid')\n",
    "plt.figure(figsize=(16,6))\n",
    "plt.title('Power Spectral Density [Store 2]', fontsize=14)\n",
    "plt.plot(f_per[1:],Pxx_per[1:])\n",
    "plt.xlabel('Frequency (Hz)')\n",
    "plt.ylabel('PSD')\n",
    "\n",
    "f_per = f_per[1:]\n",
    "Pxx_per = Pxx_per[1:]\n",
    "peaks = signal.find_peaks(Pxx_per[ f_per >= 0], prominence=np.quantile(Pxx_per, 0.99))[0]\n",
    "peaks_freq = f_per[peaks]\n",
    "peaks_power = Pxx_per[peaks]\n",
    "plt.plot(peaks_freq, peaks_power, 'ro')\n",
    "plt.xlim(0,0.5)\n",
    "plt.show()\n",
    "\n",
    "data = {'Freq':peaks_freq, 'Power':peaks_power}\n",
    "df_PSD = pd.DataFrame(data)\n",
    "df_PSD['Period (days)'] = 1/df_PSD['Freq']\n",
    "display(df_PSD)"
   ]
  },
  {
   "cell_type": "markdown",
   "id": "cbb9fa47",
   "metadata": {
    "id": "cbb9fa47"
   },
   "source": [
    "PSD confirmed the hypothesis of both an annual cycle (365 days) and a weekly seasonality (7 days)."
   ]
  },
  {
   "cell_type": "markdown",
   "id": "c9f3d89a-4ee6-4387-8829-e7f2d30978e3",
   "metadata": {
    "tags": []
   },
   "source": [
    "### Autocorrelation"
   ]
  },
  {
   "cell_type": "code",
   "execution_count": null,
   "id": "456e079a-495d-405e-9f92-7dcc40a139a9",
   "metadata": {},
   "outputs": [],
   "source": [
    "autocorrelationPlot(store2_ts['store_2'], lags=30)\n",
    "checkAutorcorrelation(store2_ts['store_2'].values, lags=30)"
   ]
  },
  {
   "cell_type": "markdown",
   "id": "f395e8ee",
   "metadata": {
    "id": "f395e8ee",
    "tags": []
   },
   "source": [
    "### Decomposition and analysis of residuals"
   ]
  },
  {
   "cell_type": "markdown",
   "id": "ca662eb1-2dfe-46d8-b12f-50edf45466f0",
   "metadata": {
    "tags": []
   },
   "source": [
    "#### Decomposition"
   ]
  },
  {
   "cell_type": "code",
   "execution_count": null,
   "id": "6acd1aa6",
   "metadata": {
    "id": "6acd1aa6"
   },
   "outputs": [],
   "source": [
    "from statsmodels.tsa.seasonal import seasonal_decompose"
   ]
  },
  {
   "cell_type": "code",
   "execution_count": null,
   "id": "b2f80e3b",
   "metadata": {
    "id": "b2f80e3b"
   },
   "outputs": [],
   "source": [
    "#extracting weekly seasonality\n",
    "sd_week = seasonal_decompose(store2_ts['store_2'], model='additive', period=7, two_sided=True)\n",
    "#extracting yearly seasonality from time series adjusted by weekly seasonality\n",
    "sd_year = seasonal_decompose(store2_ts['store_2'] -  sd_week.seasonal, model='additive', period=365, two_sided=True)"
   ]
  },
  {
   "cell_type": "code",
   "execution_count": null,
   "id": "8351ce81",
   "metadata": {
    "colab": {
     "base_uri": "https://localhost:8080/",
     "height": 1000
    },
    "executionInfo": {
     "elapsed": 5193,
     "status": "ok",
     "timestamp": 1644331101850,
     "user": {
      "displayName": "Marco Bolpagni",
      "photoUrl": "https://lh3.googleusercontent.com/a-/AOh14GiJpvH-twbKQhT-1BI6JiA4UndW7ty1fGANN0O6l0E=s64",
      "userId": "03458684448778304647"
     },
     "user_tz": -60
    },
    "id": "8351ce81",
    "outputId": "5bb55a51-ff64-4d95-f307-c2e2642ce47f"
   },
   "outputs": [],
   "source": [
    "f, axes = plt.subplots(4,1,figsize=(18,16))\n",
    "plt.suptitle('Decomposition [Store 2]', y=0.92, fontsize=14)\n",
    "\n",
    "#plotting trend component\n",
    "axes[0].plot(sd_year.trend)\n",
    "axes[0].set_title('Trend component', fontdict={'fontsize': 12})\n",
    "\n",
    "#plotting weekly seasonal component\n",
    "axes[1].plot(sd_week.seasonal)\n",
    "axes[1].set_title('Weekly seasonal component', fontdict={'fontsize': 12})\n",
    "\n",
    "#plotting yearly seasonal component\n",
    "axes[2].plot(sd_year.seasonal)\n",
    "axes[2].set_title('Yearly seasonal component', fontdict={'fontsize': 12})\n",
    "\n",
    "#plotting residual of decomposition\n",
    "axes[3].plot(sd_year.resid)\n",
    "axes[3].set_title('Residual component', fontdict={'fontsize': 12})\n",
    "\n",
    "for a in axes:\n",
    "    a.set_ylabel('Items sold (units)')\n",
    "    a.set_xlim(sd_year.trend.dropna().index[0], sd_year.trend.dropna().index[-1])\n",
    "\n",
    "#showing chart\n",
    "plt.show()"
   ]
  },
  {
   "cell_type": "markdown",
   "id": "e3f21ae4-6d58-4e1f-9ddc-9f8bbe87ac46",
   "metadata": {
    "tags": []
   },
   "source": [
    "#### Decomposition residuals"
   ]
  },
  {
   "cell_type": "code",
   "execution_count": null,
   "id": "349a76b2",
   "metadata": {
    "colab": {
     "base_uri": "https://localhost:8080/",
     "height": 282
    },
    "executionInfo": {
     "elapsed": 7872,
     "status": "ok",
     "timestamp": 1644331122505,
     "user": {
      "displayName": "Marco Bolpagni",
      "photoUrl": "https://lh3.googleusercontent.com/a-/AOh14GiJpvH-twbKQhT-1BI6JiA4UndW7ty1fGANN0O6l0E=s64",
      "userId": "03458684448778304647"
     },
     "user_tz": -60
    },
    "id": "349a76b2",
    "outputId": "f07472d8-68ed-4709-826d-47050ecd87ba"
   },
   "outputs": [],
   "source": [
    "decomp_residuals = pd.DataFrame(sd_year.resid.dropna())\n",
    "plotTS(decomp_residuals, column='resid', figsize=(16,4), title='Residual component [Store 2]')"
   ]
  },
  {
   "cell_type": "markdown",
   "id": "e1a347a3-1f9f-412f-b238-2600d5dad785",
   "metadata": {},
   "source": [
    "##### Checking normality (residuals)"
   ]
  },
  {
   "cell_type": "code",
   "execution_count": null,
   "id": "acfd1f63-b864-4f4b-95fc-bc4c7f8d4aac",
   "metadata": {},
   "outputs": [],
   "source": [
    "qqPlot(decomp_residuals['resid'], title='Residual component [Store 2]')\n",
    "checkNormality(decomp_residuals)"
   ]
  },
  {
   "cell_type": "markdown",
   "id": "27642d28-d1bc-4688-bf48-94749cda55cb",
   "metadata": {},
   "source": [
    "##### Checking stationarity (residuals)"
   ]
  },
  {
   "cell_type": "code",
   "execution_count": null,
   "id": "b3e0ef4e",
   "metadata": {
    "colab": {
     "base_uri": "https://localhost:8080/"
    },
    "executionInfo": {
     "elapsed": 750,
     "status": "ok",
     "timestamp": 1644331524557,
     "user": {
      "displayName": "Marco Bolpagni",
      "photoUrl": "https://lh3.googleusercontent.com/a-/AOh14GiJpvH-twbKQhT-1BI6JiA4UndW7ty1fGANN0O6l0E=s64",
      "userId": "03458684448778304647"
     },
     "user_tz": -60
    },
    "id": "b3e0ef4e",
    "outputId": "aa155d2d-ac72-4024-c6c0-3d59a367bc6f"
   },
   "outputs": [],
   "source": [
    "checkStationarity(decomp_residuals, kpss_type='c')"
   ]
  },
  {
   "cell_type": "markdown",
   "id": "2ca90ce3-fdd6-44a2-b385-b7b4944442b3",
   "metadata": {
    "id": "89d15f0c"
   },
   "source": [
    "##### Checking homoscedasticity (residuals)"
   ]
  },
  {
   "cell_type": "markdown",
   "id": "5982bf54-8a3f-4b53-97f5-2ca7b46a6816",
   "metadata": {},
   "source": [
    "Since Breusch–Pagan test is sensitive to departures from normality (like the one in the residuals) I choose the Koenker test (studentized Breusch-Pagan).\n",
    "\n",
    "More details in\n",
    "> Daryanto, A. (2020). *Tutorial on Heteroskedasticity using HeteroskedasticityV3 SPSS macro.* The Quantitative Methods for Psychology, 16(5), 8-20."
   ]
  },
  {
   "cell_type": "code",
   "execution_count": null,
   "id": "eed0c1a6",
   "metadata": {
    "colab": {
     "base_uri": "https://localhost:8080/",
     "height": 514
    },
    "executionInfo": {
     "elapsed": 2196,
     "status": "ok",
     "timestamp": 1644331534534,
     "user": {
      "displayName": "Marco Bolpagni",
      "photoUrl": "https://lh3.googleusercontent.com/a-/AOh14GiJpvH-twbKQhT-1BI6JiA4UndW7ty1fGANN0O6l0E=s64",
      "userId": "03458684448778304647"
     },
     "user_tz": -60
    },
    "id": "eed0c1a6",
    "outputId": "f6cbc1eb-00ff-48a0-cdde-11cfec2137f1"
   },
   "outputs": [],
   "source": [
    "scalelocationPlot(decomp_residuals['resid'], figsize=(16,4))\n",
    "checkHomoscedasticity(decomp_residuals, robust=True)"
   ]
  },
  {
   "cell_type": "markdown",
   "id": "3da1d20a-5a1d-4d1c-8c5f-c6cc4e1a4e8d",
   "metadata": {
    "id": "46ccf459"
   },
   "source": [
    "##### Checking autocorrelation (residuals)"
   ]
  },
  {
   "cell_type": "code",
   "execution_count": null,
   "id": "9d87a5d1",
   "metadata": {
    "colab": {
     "base_uri": "https://localhost:8080/",
     "height": 763
    },
    "executionInfo": {
     "elapsed": 2344,
     "status": "ok",
     "timestamp": 1644331616707,
     "user": {
      "displayName": "Marco Bolpagni",
      "photoUrl": "https://lh3.googleusercontent.com/a-/AOh14GiJpvH-twbKQhT-1BI6JiA4UndW7ty1fGANN0O6l0E=s64",
      "userId": "03458684448778304647"
     },
     "user_tz": -60
    },
    "id": "9d87a5d1",
    "outputId": "8f35b530-7ac5-4981-ec99-c59ba5ab2135"
   },
   "outputs": [],
   "source": [
    "autocorrelationPlot(decomp_residuals['resid'], lags=30)\n",
    "checkAutorcorrelation(decomp_residuals, lags=30)"
   ]
  },
  {
   "cell_type": "markdown",
   "id": "f84395cc",
   "metadata": {
    "id": "f84395cc"
   },
   "source": [
    "Residuals suggest that the time serie is not heteroscedastic and so the seasonality is not multiplicative as appeared in the graphical inspection (at the same time it is possible that if the sales grow further it would be better to apply a multiplicative decomposition as there is a very light U shape in the scale location plot). The residual component is not white noise and there is an AR/MA process left.\n",
    "\n",
    "Relevant considerations for next steps:\n",
    "* It is not necessary to apply a Box-Cox trasformation\n",
    "* Models should address trend\n",
    "* Models should address weekly and yearly seasonality\n",
    "* An AR/MA process is present"
   ]
  },
  {
   "cell_type": "markdown",
   "id": "2adc9aa2",
   "metadata": {
    "id": "2adc9aa2",
    "tags": []
   },
   "source": [
    "## Models comparison"
   ]
  },
  {
   "cell_type": "markdown",
   "id": "323605b0-b203-4f47-a177-5297f96dae29",
   "metadata": {},
   "source": [
    "The main goal of this section is to build a forecasting model that can effectively capture both annual and weekly patterns and provide a valid estimate of future values.\n",
    "\n",
    "The following approaches will be tested in detail:\n",
    "* **SARIMAX with Fourier Terms** as exogenous variables.\n",
    "* **Double Seasonal Holt-Winters**\n",
    "* **TBATS** (Exponential smoothing state space model with Box-Cox transformation, ARMA errors, Trend and Seasonal components)\n",
    "* **Prophet** (Facebook), without holidays (as no holiday effect has been observed in data exploration)\n",
    "\n",
    "The models will be *trained* on a training set containing sales from *2013-01-01 to 2017-10-31* and *tested* on the remaining actual data (*2017-11-01 to 2017-12-31*). \n",
    "\n",
    "Performance will be evaluated by using \n",
    "* **MSE**\n",
    "* **MAE**\n",
    "* **MAPE**\n",
    "\n",
    "For each model residuals will be assessed in relation to normality, stationarity, autocorrelation and homoscedasticity.\n",
    "\n",
    "The model with best performance and residuals will be applied to the remaining stores.\n",
    "\n",
    "*Note: Holt-Winters will also be tested because I want to assess how well does this double-seasonality models perform compared to a 'basic' model with just one seasonal period.*"
   ]
  },
  {
   "cell_type": "markdown",
   "id": "904d619e-ec1c-4229-a246-26587c1015b3",
   "metadata": {
    "tags": []
   },
   "source": [
    "### Train-Test Split"
   ]
  },
  {
   "cell_type": "code",
   "execution_count": null,
   "id": "d0e67550",
   "metadata": {
    "executionInfo": {
     "elapsed": 59,
     "status": "aborted",
     "timestamp": 1644359424330,
     "user": {
      "displayName": "Marco Bolpagni",
      "photoUrl": "https://lh3.googleusercontent.com/a-/AOh14GiJpvH-twbKQhT-1BI6JiA4UndW7ty1fGANN0O6l0E=s64",
      "userId": "03458684448778304647"
     },
     "user_tz": -60
    },
    "id": "d0e67550"
   },
   "outputs": [],
   "source": [
    "train = store2_ts['store_2'][:'2017-10-31']\n",
    "test = store2_ts['store_2']['2017-11-01':]"
   ]
  },
  {
   "cell_type": "code",
   "execution_count": null,
   "id": "224ec005",
   "metadata": {
    "executionInfo": {
     "elapsed": 60,
     "status": "aborted",
     "timestamp": 1644359424332,
     "user": {
      "displayName": "Marco Bolpagni",
      "photoUrl": "https://lh3.googleusercontent.com/a-/AOh14GiJpvH-twbKQhT-1BI6JiA4UndW7ty1fGANN0O6l0E=s64",
      "userId": "03458684448778304647"
     },
     "user_tz": -60
    },
    "id": "224ec005"
   },
   "outputs": [],
   "source": [
    "plt.figure(figsize=(16,4))\n",
    "plt.plot(train, color='blue', label='Train')\n",
    "plt.plot(test, color='green', label='Test')\n",
    "plt.xlim(train.index[0],test.index[-1])\n",
    "plt.title('Train-Test Split [Store 2]', fontsize=14)\n",
    "plt.legend()\n",
    "plt.show()"
   ]
  },
  {
   "cell_type": "markdown",
   "id": "eb5eba65",
   "metadata": {
    "id": "eb5eba65",
    "tags": []
   },
   "source": [
    "### SARIMAX with Fourier Terms"
   ]
  },
  {
   "cell_type": "markdown",
   "id": "c7492099-0215-40bc-9bdf-01950ab3e136",
   "metadata": {
    "tags": []
   },
   "source": [
    "#### Mathematical description"
   ]
  },
  {
   "cell_type": "markdown",
   "id": "15056a28-5245-4b1c-969c-63a4f1c43a6a",
   "metadata": {},
   "source": [
    "$ y_t = a + \\sum_{k=1}^K \\left[ \\alpha_k\\sin(2\\pi kt/m) + \\beta_k\\cos(2\\pi kt/m)\\right] + N_t $\n",
    "\n",
    "where $N_t$ is a SARIMA process and $K$ the number of Fourier terms."
   ]
  },
  {
   "cell_type": "markdown",
   "id": "e5ac53e1-7449-4dcf-8257-ac29ac8ced91",
   "metadata": {
    "tags": []
   },
   "source": [
    "#### Building the model"
   ]
  },
  {
   "cell_type": "markdown",
   "id": "340ea603",
   "metadata": {
    "id": "340ea603"
   },
   "source": [
    "*Computing Fourier Terms*\n",
    "\n",
    "Since the SARIMA model that I want to build allows me to take into account only one seasonality I have to add terms to the model in order to include the annual cycle. In this case the annual cycle is modeled through the addition of Fourier terms which are used as external regressors. "
   ]
  },
  {
   "cell_type": "code",
   "execution_count": null,
   "id": "6b3089cb",
   "metadata": {
    "executionInfo": {
     "elapsed": 61,
     "status": "aborted",
     "timestamp": 1644359424334,
     "user": {
      "displayName": "Marco Bolpagni",
      "photoUrl": "https://lh3.googleusercontent.com/a-/AOh14GiJpvH-twbKQhT-1BI6JiA4UndW7ty1fGANN0O6l0E=s64",
      "userId": "03458684448778304647"
     },
     "user_tz": -60
    },
    "id": "6b3089cb"
   },
   "outputs": [],
   "source": [
    "from pmdarima.preprocessing import FourierFeaturizer"
   ]
  },
  {
   "cell_type": "code",
   "execution_count": null,
   "id": "78413b5f",
   "metadata": {
    "executionInfo": {
     "elapsed": 62,
     "status": "aborted",
     "timestamp": 1644359424336,
     "user": {
      "displayName": "Marco Bolpagni",
      "photoUrl": "https://lh3.googleusercontent.com/a-/AOh14GiJpvH-twbKQhT-1BI6JiA4UndW7ty1fGANN0O6l0E=s64",
      "userId": "03458684448778304647"
     },
     "user_tz": -60
    },
    "id": "78413b5f"
   },
   "outputs": [],
   "source": [
    "trans = FourierFeaturizer(365.25, 2)\n",
    "y_prime, X = trans.fit_transform(store2_ts['store_2'])\n",
    "X.index = store2_ts['store_2'].index\n",
    "display(X)\n",
    "\n",
    "Y_train = store2_ts['store_2'][:'2017-10-31']\n",
    "X_train = X[:'2017-10-31']\n",
    "Y_test = store2_ts['store_2']['2017-11-01':]\n",
    "X_test = X['2017-11-01':]"
   ]
  },
  {
   "cell_type": "markdown",
   "id": "3c680239",
   "metadata": {
    "id": "3c680239"
   },
   "source": [
    "*Finding the best model*"
   ]
  },
  {
   "cell_type": "code",
   "execution_count": null,
   "id": "a89abaf5",
   "metadata": {
    "executionInfo": {
     "elapsed": 61,
     "status": "aborted",
     "timestamp": 1644359424337,
     "user": {
      "displayName": "Marco Bolpagni",
      "photoUrl": "https://lh3.googleusercontent.com/a-/AOh14GiJpvH-twbKQhT-1BI6JiA4UndW7ty1fGANN0O6l0E=s64",
      "userId": "03458684448778304647"
     },
     "user_tz": -60
    },
    "id": "a89abaf5"
   },
   "outputs": [],
   "source": [
    "from pmdarima import auto_arima"
   ]
  },
  {
   "cell_type": "code",
   "execution_count": null,
   "id": "4f9bcf64",
   "metadata": {
    "executionInfo": {
     "elapsed": 61,
     "status": "aborted",
     "timestamp": 1644359424338,
     "user": {
      "displayName": "Marco Bolpagni",
      "photoUrl": "https://lh3.googleusercontent.com/a-/AOh14GiJpvH-twbKQhT-1BI6JiA4UndW7ty1fGANN0O6l0E=s64",
      "userId": "03458684448778304647"
     },
     "user_tz": -60
    },
    "id": "4f9bcf64"
   },
   "outputs": [],
   "source": [
    "arima_model = auto_arima(Y_train, start_p=1, start_q=1,\n",
    "                         max_p=7, max_d=2, max_q=7, # maximum p d q\n",
    "                         seasonal=True,   # Seasonality\n",
    "                         m=7,              # Seasonality type (weekly)\n",
    "                         max_P=7, max_D=2, max_Q=7, # maximum P D Q\n",
    "                         suppress_warnings=True, \n",
    "                         n_jobs = -1,\n",
    "                         maxiter = 50,\n",
    "                         information_criterion = 'aic',\n",
    "                         random_state=42,\n",
    "                         trace=True,\n",
    "                         exogenous=X_train)\n",
    "print(arima_model.summary())"
   ]
  },
  {
   "cell_type": "markdown",
   "id": "eaac6f4f-573f-4d02-9720-d2546cbd70fb",
   "metadata": {
    "tags": []
   },
   "source": [
    "#### Checking the residuals"
   ]
  },
  {
   "cell_type": "code",
   "execution_count": null,
   "id": "4a7951d7-cc7a-42d0-9343-4e1dc1275061",
   "metadata": {},
   "outputs": [],
   "source": [
    "arima_resid = arima_model.arima_res_.resid\n",
    "plotTS(pd.DataFrame(arima_resid, columns=['resid']), column='resid', figsize=(16,4), title='SARIMAX Residuals [Store 2]')"
   ]
  },
  {
   "cell_type": "markdown",
   "id": "7f4fe612-613d-4adb-a18e-790016de294e",
   "metadata": {},
   "source": [
    "##### Checking normality (SARIMAX residuals)"
   ]
  },
  {
   "cell_type": "code",
   "execution_count": null,
   "id": "7a709656-f987-4616-be5d-8d8cc0c6b2d9",
   "metadata": {},
   "outputs": [],
   "source": [
    "qqPlot(arima_resid, title='- SARIMAX Residuals [Store 2]')\n",
    "checkNormality(arima_resid)"
   ]
  },
  {
   "cell_type": "markdown",
   "id": "16b59627-5102-4f7f-a5a5-927329a58239",
   "metadata": {},
   "source": [
    "##### Checking stationarity (SARIMAX residuals)"
   ]
  },
  {
   "cell_type": "code",
   "execution_count": null,
   "id": "08310922-d1d5-4678-a379-82080c1ff9d3",
   "metadata": {},
   "outputs": [],
   "source": [
    "checkStationarity(arima_resid, kpss_type='c')"
   ]
  },
  {
   "cell_type": "markdown",
   "id": "aac40fcb-c3c1-494f-a271-c0b177ff1080",
   "metadata": {},
   "source": [
    "##### Checking homoscedasticity (SARIMAX residuals)"
   ]
  },
  {
   "cell_type": "code",
   "execution_count": null,
   "id": "7d3d3ab4-36d9-4435-89d4-62d41b6880b4",
   "metadata": {},
   "outputs": [],
   "source": [
    "scalelocationPlot(arima_resid, figsize=(16,4))\n",
    "checkHomoscedasticity(arima_resid, robust=True)"
   ]
  },
  {
   "cell_type": "markdown",
   "id": "0e911350-d3b8-459c-97a7-293c176f87ac",
   "metadata": {},
   "source": [
    "##### Checking autocorrelation (SARIMAX residuals)"
   ]
  },
  {
   "cell_type": "code",
   "execution_count": null,
   "id": "2e20e911-8e24-4438-848c-c58a50e37584",
   "metadata": {},
   "outputs": [],
   "source": [
    "autocorrelationPlot(arima_resid, lags=30)\n",
    "checkAutorcorrelation(arima_resid, lags=30)"
   ]
  },
  {
   "cell_type": "markdown",
   "id": "ca59d38f",
   "metadata": {
    "id": "ca59d38f",
    "tags": []
   },
   "source": [
    "#### SARIMAX Prediction"
   ]
  },
  {
   "cell_type": "code",
   "execution_count": null,
   "id": "b244d7e3",
   "metadata": {
    "executionInfo": {
     "elapsed": 63,
     "status": "aborted",
     "timestamp": 1644359424343,
     "user": {
      "displayName": "Marco Bolpagni",
      "photoUrl": "https://lh3.googleusercontent.com/a-/AOh14GiJpvH-twbKQhT-1BI6JiA4UndW7ty1fGANN0O6l0E=s64",
      "userId": "03458684448778304647"
     },
     "user_tz": -60
    },
    "id": "b244d7e3"
   },
   "outputs": [],
   "source": [
    "y_pred_arima = arima_model.predict(n_periods=61, exogenous=X_test)\n",
    "y_pred_arima = pd.Series(y_pred_arima)\n",
    "y_pred_arima.index = test.index"
   ]
  },
  {
   "cell_type": "code",
   "execution_count": null,
   "id": "f8db4f83",
   "metadata": {
    "executionInfo": {
     "elapsed": 64,
     "status": "aborted",
     "timestamp": 1644359424344,
     "user": {
      "displayName": "Marco Bolpagni",
      "photoUrl": "https://lh3.googleusercontent.com/a-/AOh14GiJpvH-twbKQhT-1BI6JiA4UndW7ty1fGANN0O6l0E=s64",
      "userId": "03458684448778304647"
     },
     "user_tz": -60
    },
    "id": "f8db4f83"
   },
   "outputs": [],
   "source": [
    "plt.figure(figsize=(16,4))\n",
    "plt.plot(test, color='blue', label='Ground truth')\n",
    "plt.plot(y_pred_arima, color='red', label='Prediction')\n",
    "plt.title('Forecast - SARIMAX with Fourier Terms [Store 2]', fontsize=14)\n",
    "plt.xlim(test.index[0],test.index[-1])\n",
    "plt.xlabel('Date')\n",
    "plt.ylabel('Items sold (unit/day)')\n",
    "plt.ylim(0,6000)\n",
    "plt.legend()\n",
    "plt.show()"
   ]
  },
  {
   "cell_type": "code",
   "execution_count": null,
   "id": "a9466689",
   "metadata": {
    "executionInfo": {
     "elapsed": 64,
     "status": "aborted",
     "timestamp": 1644359424345,
     "user": {
      "displayName": "Marco Bolpagni",
      "photoUrl": "https://lh3.googleusercontent.com/a-/AOh14GiJpvH-twbKQhT-1BI6JiA4UndW7ty1fGANN0O6l0E=s64",
      "userId": "03458684448778304647"
     },
     "user_tz": -60
    },
    "id": "a9466689"
   },
   "outputs": [],
   "source": [
    "mse_sarimax = mean_squared_error(y_pred_arima,test.values)\n",
    "mae_sarimax = mean_absolute_error(y_pred_arima,test.values)\n",
    "mape_sarimax = mean_absolute_percentage_error(y_pred_arima,test.values)*100\n",
    "\n",
    "print('SARIMAX model performance: ')\n",
    "print('MSE: ', round(mse_sarimax,3))\n",
    "print('MAE: ', round(mae_sarimax,3))\n",
    "print('MAPE: ', round(mape_sarimax,3), '%')"
   ]
  },
  {
   "cell_type": "markdown",
   "id": "9cb62673-def9-4ef2-aba5-e72fb4c3d9ac",
   "metadata": {
    "tags": []
   },
   "source": [
    "### Double Seasonal Holt-Winters"
   ]
  },
  {
   "cell_type": "markdown",
   "id": "3a2e0478-52f5-4097-947f-689a489362c1",
   "metadata": {
    "tags": []
   },
   "source": [
    "#### Mathematical description"
   ]
  },
  {
   "cell_type": "markdown",
   "id": "2488d9e3-7764-4ccd-a12c-8077196d7158",
   "metadata": {},
   "source": [
    "<img src=\"https://i.imgur.com/MBqLsPe.png\" width=\"300\">\n",
    "\n",
    "You can find more details about the Double Seasonal Holt-Winters in:\n",
    "> Hyndman, R., Koehler, A. B., Ord, J. K., & Snyder, R. D. (2008). *Forecasting with exponential smoothing: the state space approach.* Springer Science & Business Media."
   ]
  },
  {
   "cell_type": "markdown",
   "id": "af3a55c1-4826-4936-8aca-52d3648e1514",
   "metadata": {
    "tags": []
   },
   "source": [
    "#### Building the model"
   ]
  },
  {
   "cell_type": "code",
   "execution_count": null,
   "id": "15fbcd84",
   "metadata": {
    "executionInfo": {
     "elapsed": 65,
     "status": "aborted",
     "timestamp": 1644359424347,
     "user": {
      "displayName": "Marco Bolpagni",
      "photoUrl": "https://lh3.googleusercontent.com/a-/AOh14GiJpvH-twbKQhT-1BI6JiA4UndW7ty1fGANN0O6l0E=s64",
      "userId": "03458684448778304647"
     },
     "user_tz": -60
    },
    "id": "15fbcd84"
   },
   "outputs": [],
   "source": [
    "import rpy2.robjects as robjects\n",
    "from rpy2.robjects.packages import importr\n",
    "from rpy2.robjects import pandas2ri\n",
    "utils = importr('utils')\n",
    "pandas2ri.activate()\n",
    "time_series=robjects.r('ts')\n",
    "forecast_package=importr('forecast')"
   ]
  },
  {
   "cell_type": "code",
   "execution_count": null,
   "id": "5b15a67c",
   "metadata": {
    "executionInfo": {
     "elapsed": 66,
     "status": "aborted",
     "timestamp": 1644359424349,
     "user": {
      "displayName": "Marco Bolpagni",
      "photoUrl": "https://lh3.googleusercontent.com/a-/AOh14GiJpvH-twbKQhT-1BI6JiA4UndW7ty1fGANN0O6l0E=s64",
      "userId": "03458684448778304647"
     },
     "user_tz": -60
    },
    "id": "5b15a67c"
   },
   "outputs": [],
   "source": [
    "#converting the training data into an R time series object\n",
    "r_times_series_data=time_series(train.values,frequency=1)"
   ]
  },
  {
   "cell_type": "code",
   "execution_count": null,
   "id": "6d924d76",
   "metadata": {
    "executionInfo": {
     "elapsed": 66,
     "status": "aborted",
     "timestamp": 1644359424349,
     "user": {
      "displayName": "Marco Bolpagni",
      "photoUrl": "https://lh3.googleusercontent.com/a-/AOh14GiJpvH-twbKQhT-1BI6JiA4UndW7ty1fGANN0O6l0E=s64",
      "userId": "03458684448778304647"
     },
     "user_tz": -60
    },
    "id": "6d924d76"
   },
   "outputs": [],
   "source": [
    "dshw_model=forecast_package.dshw(r_times_series_data,364,7, h=61)\n",
    "dshw_model_summary = dshw_model.rx('model')\n",
    "print(dshw_model_summary)"
   ]
  },
  {
   "cell_type": "markdown",
   "id": "8720ed2c-258d-41f8-b579-c7f1f014dba8",
   "metadata": {
    "tags": []
   },
   "source": [
    "#### Checking the residuals"
   ]
  },
  {
   "cell_type": "code",
   "execution_count": null,
   "id": "4731fea3-71df-47b0-ab70-6759b23b77a7",
   "metadata": {},
   "outputs": [],
   "source": [
    "dshw_resid = np.array(dshw_model.rx('residuals'))\n",
    "dshw_resid = pd.Series([x for x in dshw_resid[0]], index=train.index)\n",
    "plotTS(pd.DataFrame(dshw_resid, columns=['resid']), column='resid', figsize=(16,4), title='Double Seasonal Holt-Winters Residuals [Store 2]')"
   ]
  },
  {
   "cell_type": "markdown",
   "id": "58ebaa4b-5c76-4fc8-b8d0-333a8826736b",
   "metadata": {},
   "source": [
    "##### Checking normality (Double Seasonal Holt-Winters residuals)"
   ]
  },
  {
   "cell_type": "code",
   "execution_count": null,
   "id": "3dca5e90-ec92-446b-ab4f-ce85edcef796",
   "metadata": {},
   "outputs": [],
   "source": [
    "qqPlot(dshw_resid, title='- Double Seasonal Holt-Winters Residuals [Store 2]')\n",
    "checkNormality(dshw_resid)"
   ]
  },
  {
   "cell_type": "markdown",
   "id": "95fdee2f-944e-4f6d-b9ac-68af45a272c8",
   "metadata": {},
   "source": [
    "##### Checking stationarity (Double Seasonal Holt-Winters residuals)"
   ]
  },
  {
   "cell_type": "code",
   "execution_count": null,
   "id": "91192a98-4bde-4b5b-a9a6-78c771484017",
   "metadata": {},
   "outputs": [],
   "source": [
    "checkStationarity(dshw_resid, kpss_type='c')"
   ]
  },
  {
   "cell_type": "markdown",
   "id": "2376f7c5-3d3a-47c1-85e4-80c289a0e9a1",
   "metadata": {},
   "source": [
    "##### Checking homoscedasticity (Double Seasonal Holt-Winters residuals)"
   ]
  },
  {
   "cell_type": "code",
   "execution_count": null,
   "id": "11049ce8-7dad-4451-bc77-024dd17181b0",
   "metadata": {},
   "outputs": [],
   "source": [
    "scalelocationPlot(dshw_resid, figsize=(16,4))\n",
    "checkHomoscedasticity(dshw_resid, robust=True)"
   ]
  },
  {
   "cell_type": "markdown",
   "id": "e62c95c6-3bca-4ab8-894b-1dca0464acc8",
   "metadata": {},
   "source": [
    "##### Checking autocorrelation (Double Seasonal Holt-Winters residuals)"
   ]
  },
  {
   "cell_type": "code",
   "execution_count": null,
   "id": "5eab4dc9-2719-448c-8835-bd6be0eac982",
   "metadata": {},
   "outputs": [],
   "source": [
    "autocorrelationPlot(dshw_resid, lags=30)\n",
    "checkAutorcorrelation(dshw_resid, lags=30)"
   ]
  },
  {
   "cell_type": "markdown",
   "id": "724e0f35-df13-47e5-8799-8217ce270f37",
   "metadata": {
    "tags": []
   },
   "source": [
    "#### Double Seasonal Holt-Winters Prediction"
   ]
  },
  {
   "cell_type": "code",
   "execution_count": null,
   "id": "180a3fd0",
   "metadata": {
    "executionInfo": {
     "elapsed": 66,
     "status": "aborted",
     "timestamp": 1644359424350,
     "user": {
      "displayName": "Marco Bolpagni",
      "photoUrl": "https://lh3.googleusercontent.com/a-/AOh14GiJpvH-twbKQhT-1BI6JiA4UndW7ty1fGANN0O6l0E=s64",
      "userId": "03458684448778304647"
     },
     "user_tz": -60
    },
    "id": "180a3fd0"
   },
   "outputs": [],
   "source": [
    "y_pred_dshw = np.array(dshw_model.rx('mean'))\n",
    "y_pred_dshw = pd.Series([x for x in y_pred_dshw[0]], index =test.index)"
   ]
  },
  {
   "cell_type": "code",
   "execution_count": null,
   "id": "0a18192f",
   "metadata": {
    "executionInfo": {
     "elapsed": 304,
     "status": "aborted",
     "timestamp": 1644359424598,
     "user": {
      "displayName": "Marco Bolpagni",
      "photoUrl": "https://lh3.googleusercontent.com/a-/AOh14GiJpvH-twbKQhT-1BI6JiA4UndW7ty1fGANN0O6l0E=s64",
      "userId": "03458684448778304647"
     },
     "user_tz": -60
    },
    "id": "0a18192f"
   },
   "outputs": [],
   "source": [
    "plt.figure(figsize=(16,4))\n",
    "plt.plot(test, color='blue', label='Ground truth')\n",
    "plt.plot(y_pred_dshw, color='red', label='Prediction')\n",
    "plt.title('Forecast - Double Seasonal Holt-Winters [Store 2]', fontsize=14)\n",
    "plt.xlim(test.index[0],test.index[-1])\n",
    "plt.xlabel('Date')\n",
    "plt.ylabel('Items sold (unit/day)')\n",
    "plt.ylim(0,6000)\n",
    "plt.legend()\n",
    "plt.show()"
   ]
  },
  {
   "cell_type": "code",
   "execution_count": null,
   "id": "fd1e6f46",
   "metadata": {
    "executionInfo": {
     "elapsed": 304,
     "status": "aborted",
     "timestamp": 1644359424599,
     "user": {
      "displayName": "Marco Bolpagni",
      "photoUrl": "https://lh3.googleusercontent.com/a-/AOh14GiJpvH-twbKQhT-1BI6JiA4UndW7ty1fGANN0O6l0E=s64",
      "userId": "03458684448778304647"
     },
     "user_tz": -60
    },
    "id": "fd1e6f46"
   },
   "outputs": [],
   "source": [
    "mse_dshw = mean_squared_error(y_pred_dshw,test.values)\n",
    "mae_dshw = mean_absolute_error(y_pred_dshw,test.values)\n",
    "mape_dshw = mean_absolute_percentage_error(y_pred_dshw,test.values)*100\n",
    "\n",
    "print('Double Seasonal Holt-Winters model performance: ')\n",
    "print('MSE: ', round(mse_dshw,3))\n",
    "print('MAE: ', round(mae_dshw,3))\n",
    "print('MAPE: ', round(mape_dshw,3), '%')"
   ]
  },
  {
   "cell_type": "markdown",
   "id": "b2c59be3-b696-4501-9b90-2f83f12cccf1",
   "metadata": {
    "tags": []
   },
   "source": [
    "### TBATS"
   ]
  },
  {
   "cell_type": "markdown",
   "id": "38d64c1d",
   "metadata": {
    "id": "38d64c1d",
    "tags": []
   },
   "source": [
    "#### Mathematical description"
   ]
  },
  {
   "cell_type": "markdown",
   "id": "3c47196e-1a98-478e-a41a-c5f7a55672b3",
   "metadata": {},
   "source": [
    "<img src=\"https://i.imgur.com/kY6IqVn.png\" width=\"300\">\n",
    "<img src=\"https://yintingchou.com/posts/2017-05-03-bats-and-tbats-model/tbats2.png\" width=\"300\">\n",
    "\n",
    "where $i = i_{th}$ seasonality. If it is double seasonality then  $i = 1,2$.\n",
    "\n",
    "You can find more details about the TBATS in:\n",
    "> De Livera, A. M., Hyndman, R. J., & Snyder, R. D. (2011). *Forecasting time series with complex seasonal patterns using exponential smoothing.* Journal of the American statistical association, 106(496), 1513-1527."
   ]
  },
  {
   "cell_type": "markdown",
   "id": "a97122db-78c8-45a9-b318-43dd7cee06a5",
   "metadata": {
    "tags": []
   },
   "source": [
    "#### Building the model"
   ]
  },
  {
   "cell_type": "code",
   "execution_count": null,
   "id": "4d043b0f",
   "metadata": {
    "executionInfo": {
     "elapsed": 303,
     "status": "aborted",
     "timestamp": 1644359424600,
     "user": {
      "displayName": "Marco Bolpagni",
      "photoUrl": "https://lh3.googleusercontent.com/a-/AOh14GiJpvH-twbKQhT-1BI6JiA4UndW7ty1fGANN0O6l0E=s64",
      "userId": "03458684448778304647"
     },
     "user_tz": -60
    },
    "id": "4d043b0f"
   },
   "outputs": [],
   "source": [
    "from tbats import TBATS"
   ]
  },
  {
   "cell_type": "code",
   "execution_count": null,
   "id": "c1cd4944",
   "metadata": {
    "executionInfo": {
     "elapsed": 302,
     "status": "aborted",
     "timestamp": 1644359424600,
     "user": {
      "displayName": "Marco Bolpagni",
      "photoUrl": "https://lh3.googleusercontent.com/a-/AOh14GiJpvH-twbKQhT-1BI6JiA4UndW7ty1fGANN0O6l0E=s64",
      "userId": "03458684448778304647"
     },
     "user_tz": -60
    },
    "id": "c1cd4944"
   },
   "outputs": [],
   "source": [
    "tbats_model = TBATS(seasonal_periods=[7, 365.25], use_arma_errors=True)\n",
    "tbats_fitted_model = tbats_model.fit(train.values)"
   ]
  },
  {
   "cell_type": "code",
   "execution_count": null,
   "id": "5824b674-4557-48ec-b9d5-68cc079210e9",
   "metadata": {},
   "outputs": [],
   "source": [
    "print(tbats_fitted_model.summary())"
   ]
  },
  {
   "cell_type": "markdown",
   "id": "b28ac63c-ee88-44ff-a4b0-f2fecc485f2c",
   "metadata": {
    "tags": []
   },
   "source": [
    "#### Checking the residuals"
   ]
  },
  {
   "cell_type": "code",
   "execution_count": null,
   "id": "8b78fc5d-05e8-45b3-af91-8a490c086e72",
   "metadata": {},
   "outputs": [],
   "source": [
    "tbats_resid = pd.Series(tbats_fitted_model.resid, index =train.index)\n",
    "plotTS(pd.DataFrame(tbats_resid, columns=['resid']), column='resid', figsize=(16,4), title='TBATS Residuals [Store 2]')"
   ]
  },
  {
   "cell_type": "markdown",
   "id": "a4e87f31-a161-469e-ba3c-b8ae03117f14",
   "metadata": {
    "tags": []
   },
   "source": [
    "##### Checking normality (TBATS residuals)"
   ]
  },
  {
   "cell_type": "code",
   "execution_count": null,
   "id": "1ed98394-9ad0-4536-bbc8-260685f2b199",
   "metadata": {},
   "outputs": [],
   "source": [
    "qqPlot(tbats_resid, title='- TBATS Residuals [Store 2]')\n",
    "checkNormality(tbats_resid)"
   ]
  },
  {
   "cell_type": "markdown",
   "id": "a7b8b2fe-d04f-456a-95cb-1566d8dd0ce2",
   "metadata": {},
   "source": [
    "##### Checking stationarity (TBATS residuals)"
   ]
  },
  {
   "cell_type": "code",
   "execution_count": null,
   "id": "8158f91a-47ad-442e-82d4-585223d644a9",
   "metadata": {},
   "outputs": [],
   "source": [
    "checkStationarity(tbats_resid, kpss_type='c')"
   ]
  },
  {
   "cell_type": "markdown",
   "id": "1520173d-78ca-43cd-bae3-1aa41c9d4904",
   "metadata": {},
   "source": [
    "##### Checking homoscedasticity (TBATS residuals)"
   ]
  },
  {
   "cell_type": "code",
   "execution_count": null,
   "id": "5c703fb5-4d9e-42d0-ab1a-bb8a04ea5031",
   "metadata": {},
   "outputs": [],
   "source": [
    "scalelocationPlot(tbats_resid, figsize=(16,4))\n",
    "checkHomoscedasticity(tbats_resid, robust=True)"
   ]
  },
  {
   "cell_type": "markdown",
   "id": "6290d051-d049-4d23-803b-078e9b343900",
   "metadata": {},
   "source": [
    "##### Checking autocorrelation (TBATS residuals)"
   ]
  },
  {
   "cell_type": "code",
   "execution_count": null,
   "id": "563db319-90d1-4073-8ed6-47ded6195f0a",
   "metadata": {},
   "outputs": [],
   "source": [
    "autocorrelationPlot(tbats_resid, lags=30)\n",
    "checkAutorcorrelation(tbats_resid, lags=30)"
   ]
  },
  {
   "cell_type": "markdown",
   "id": "3a284820-5c4d-4822-b868-ae4b9c0ddf63",
   "metadata": {
    "tags": []
   },
   "source": [
    "#### TBATS Prediction"
   ]
  },
  {
   "cell_type": "code",
   "execution_count": null,
   "id": "9809c70e-14e8-43ec-af50-95826e18d8bb",
   "metadata": {},
   "outputs": [],
   "source": [
    "y_pred_tbats =  tbats_fitted_model.forecast(steps=61)\n",
    "y_pred_tbats = pd.Series(y_pred_tbats, index=test.index)"
   ]
  },
  {
   "cell_type": "code",
   "execution_count": null,
   "id": "06ceff12",
   "metadata": {
    "executionInfo": {
     "elapsed": 300,
     "status": "aborted",
     "timestamp": 1644359424602,
     "user": {
      "displayName": "Marco Bolpagni",
      "photoUrl": "https://lh3.googleusercontent.com/a-/AOh14GiJpvH-twbKQhT-1BI6JiA4UndW7ty1fGANN0O6l0E=s64",
      "userId": "03458684448778304647"
     },
     "user_tz": -60
    },
    "id": "06ceff12"
   },
   "outputs": [],
   "source": [
    "plt.figure(figsize=(16,4))\n",
    "plt.plot(test, color='blue', label='Ground truth')\n",
    "plt.plot(y_pred_tbats, color='red', label='Prediction')\n",
    "plt.title('Forecast - TBATS [Store 2]', fontsize=14)\n",
    "plt.xlim(test.index[0],test.index[-1])\n",
    "plt.xlabel('Date')\n",
    "plt.ylabel('Items sold (unit/day)')\n",
    "plt.ylim(0,6000)\n",
    "plt.legend()\n",
    "plt.show()"
   ]
  },
  {
   "cell_type": "code",
   "execution_count": null,
   "id": "c6b16c9b",
   "metadata": {
    "executionInfo": {
     "elapsed": 298,
     "status": "aborted",
     "timestamp": 1644359424603,
     "user": {
      "displayName": "Marco Bolpagni",
      "photoUrl": "https://lh3.googleusercontent.com/a-/AOh14GiJpvH-twbKQhT-1BI6JiA4UndW7ty1fGANN0O6l0E=s64",
      "userId": "03458684448778304647"
     },
     "user_tz": -60
    },
    "id": "c6b16c9b"
   },
   "outputs": [],
   "source": [
    "mse_tbats = mean_squared_error(y_pred_tbats,test.values)\n",
    "mae_tbats = mean_absolute_error(y_pred_tbats,test.values)\n",
    "mape_tbats = mean_absolute_percentage_error(y_pred_tbats,test.values)*100\n",
    "\n",
    "print('TBATS model performance: ')\n",
    "print('MSE: ', round(mse_tbats,3))\n",
    "print('MAE: ', round(mae_tbats,3))\n",
    "print('MAPE: ', round(mape_tbats,3), '%')"
   ]
  },
  {
   "cell_type": "markdown",
   "id": "d0a00921-4cfa-450a-ab7c-d0c2f321de07",
   "metadata": {
    "tags": []
   },
   "source": [
    "### Prophet"
   ]
  },
  {
   "cell_type": "markdown",
   "id": "6d315450",
   "metadata": {
    "id": "6d315450",
    "tags": []
   },
   "source": [
    "#### Mathematical description"
   ]
  },
  {
   "cell_type": "markdown",
   "id": "e3260b19-d8da-470d-b16e-9e3deb746ff0",
   "metadata": {},
   "source": [
    "The math of Prophet is really complex and hard to summarize in a paper like this. You can find details about it in:\n",
    "> Taylor SJ, Letham B. 2017. *Forecasting at scale*. PeerJ Preprints 5:e3190v2 https://doi.org/10.7287/peerj.preprints.3190v2"
   ]
  },
  {
   "cell_type": "markdown",
   "id": "104c226c-57a6-47b1-8a41-3e24774e426e",
   "metadata": {
    "tags": []
   },
   "source": [
    "#### Building the model"
   ]
  },
  {
   "cell_type": "code",
   "execution_count": null,
   "id": "64d063e4",
   "metadata": {
    "executionInfo": {
     "elapsed": 29,
     "status": "aborted",
     "timestamp": 1644359424607,
     "user": {
      "displayName": "Marco Bolpagni",
      "photoUrl": "https://lh3.googleusercontent.com/a-/AOh14GiJpvH-twbKQhT-1BI6JiA4UndW7ty1fGANN0O6l0E=s64",
      "userId": "03458684448778304647"
     },
     "user_tz": -60
    },
    "id": "64d063e4"
   },
   "outputs": [],
   "source": [
    "from prophet import Prophet"
   ]
  },
  {
   "cell_type": "code",
   "execution_count": null,
   "id": "124d8fd9",
   "metadata": {
    "executionInfo": {
     "elapsed": 28,
     "status": "aborted",
     "timestamp": 1644359424607,
     "user": {
      "displayName": "Marco Bolpagni",
      "photoUrl": "https://lh3.googleusercontent.com/a-/AOh14GiJpvH-twbKQhT-1BI6JiA4UndW7ty1fGANN0O6l0E=s64",
      "userId": "03458684448778304647"
     },
     "user_tz": -60
    },
    "id": "124d8fd9"
   },
   "outputs": [],
   "source": [
    "train_prophet = pd.DataFrame({'y':train.values,'ds':train.index.to_list()})\n",
    "prophet_model = Prophet(daily_seasonality=False, weekly_seasonality=True, yearly_seasonality=True)\n",
    "prophet_fitted_model = prophet_model.fit(train_prophet)\n",
    "future = prophet_fitted_model.make_future_dataframe(periods = 61)\n",
    "forecast = prophet_fitted_model.predict(future)"
   ]
  },
  {
   "cell_type": "markdown",
   "id": "e9b57704-ef96-4526-acba-704cda8816bc",
   "metadata": {
    "tags": []
   },
   "source": [
    "#### Checking the residuals"
   ]
  },
  {
   "cell_type": "code",
   "execution_count": null,
   "id": "840ef6fb-87bc-4bde-b98a-62e0552461a7",
   "metadata": {},
   "outputs": [],
   "source": [
    "tmp = pd.merge(train_prophet, forecast.head(len(forecast)-61), on='ds')\n",
    "prophet_resid = tmp['y'] - tmp['yhat']\n",
    "plotTS(pd.DataFrame(prophet_resid, columns=['resid']), column='resid', figsize=(16,4), title='Prophet Residuals [Store 2]')"
   ]
  },
  {
   "cell_type": "markdown",
   "id": "68229c3c-2fd0-4ef5-9ea8-c76f477c0ec3",
   "metadata": {
    "tags": []
   },
   "source": [
    "##### Checking normality (Prophet residuals)"
   ]
  },
  {
   "cell_type": "code",
   "execution_count": null,
   "id": "7d940ab4-4d00-446e-bfd2-b3b6b5203827",
   "metadata": {},
   "outputs": [],
   "source": [
    "qqPlot(prophet_resid, title='- Prophet Residuals [Store 2]')\n",
    "checkNormality(prophet_resid)"
   ]
  },
  {
   "cell_type": "markdown",
   "id": "8918b6a4-ec67-49b3-a91d-f19de0bd77d2",
   "metadata": {
    "tags": []
   },
   "source": [
    "##### Checking stationarity (Prophet residuals)"
   ]
  },
  {
   "cell_type": "code",
   "execution_count": null,
   "id": "f0c71816-ee40-47da-9ad0-5666ee52dcb3",
   "metadata": {},
   "outputs": [],
   "source": [
    "checkStationarity(prophet_resid, kpss_type='c')"
   ]
  },
  {
   "cell_type": "markdown",
   "id": "09bbf05e-0583-433b-b384-c0538f61cd9b",
   "metadata": {
    "tags": []
   },
   "source": [
    "##### Checking homoscedasticity (Prophet residuals)"
   ]
  },
  {
   "cell_type": "code",
   "execution_count": null,
   "id": "985c792f-54dc-4be7-9a13-0cfe5d239393",
   "metadata": {},
   "outputs": [],
   "source": [
    "scalelocationPlot(prophet_resid, figsize=(16,4))\n",
    "checkHomoscedasticity(prophet_resid, robust=True)"
   ]
  },
  {
   "cell_type": "markdown",
   "id": "caede349-bf03-4f81-badf-430a79b0303c",
   "metadata": {
    "tags": []
   },
   "source": [
    "##### Checking autocorrelation (Prophet residuals)"
   ]
  },
  {
   "cell_type": "code",
   "execution_count": null,
   "id": "2f492012-e238-405d-987d-10a15d06f61e",
   "metadata": {},
   "outputs": [],
   "source": [
    "autocorrelationPlot(prophet_resid, lags=30)\n",
    "checkAutorcorrelation(prophet_resid, lags=30)"
   ]
  },
  {
   "cell_type": "markdown",
   "id": "74ad2bc3-2d19-4953-8d52-6c855d56ff0c",
   "metadata": {
    "tags": []
   },
   "source": [
    "#### Prophet Prediction"
   ]
  },
  {
   "cell_type": "code",
   "execution_count": null,
   "id": "0ae34d6e-66cd-4ccb-81f7-2f82b3a4e44c",
   "metadata": {},
   "outputs": [],
   "source": [
    "y_pred_prophet = forecast['yhat'].tail(61)\n",
    "y_pred_prophet.index = test.index"
   ]
  },
  {
   "cell_type": "code",
   "execution_count": null,
   "id": "489352b8-f6ab-418c-8f60-b5995554deba",
   "metadata": {},
   "outputs": [],
   "source": [
    "plt.figure(figsize=(16,4))\n",
    "plt.plot(test, color='blue', label='Ground truth')\n",
    "plt.plot(y_pred_prophet, color='red', label='Prediction')\n",
    "plt.title('Forecast - Prophet [Store 2]', fontsize=14)\n",
    "plt.xlim(test.index[0],test.index[-1])\n",
    "plt.xlabel('Date')\n",
    "plt.ylabel('Items sold (unit/day)')\n",
    "plt.ylim(0,6000)\n",
    "plt.legend()\n",
    "plt.show()"
   ]
  },
  {
   "cell_type": "code",
   "execution_count": null,
   "id": "92776906-b966-41d1-b547-0b813997be1f",
   "metadata": {},
   "outputs": [],
   "source": [
    "mse_prophet = mean_squared_error(y_pred_prophet,test.values)\n",
    "mae_prophet = mean_absolute_error(y_pred_prophet,test.values)\n",
    "mape_prophet = mean_absolute_percentage_error(y_pred_prophet,test.values)*100\n",
    "\n",
    "print('Prophet model performance: ')\n",
    "print('MSE: ', round(mse_prophet,3))\n",
    "print('MAE: ', round(mae_prophet,3))\n",
    "print('MAPE: ', round(mape_prophet,3), '%')"
   ]
  },
  {
   "cell_type": "markdown",
   "id": "ff54804c-ee21-4e67-af63-de40d5759f59",
   "metadata": {
    "tags": []
   },
   "source": [
    "### Back to a basic model (Holt-Winters)"
   ]
  },
  {
   "cell_type": "markdown",
   "id": "5345e218-3315-44c8-8568-6a5a65bfe762",
   "metadata": {
    "tags": []
   },
   "source": [
    "#### Mathematical description"
   ]
  },
  {
   "cell_type": "markdown",
   "id": "ee867944-fb6f-4194-ad69-511becd10d46",
   "metadata": {},
   "source": [
    "$\\begin{align*}\n",
    "  \\hat{y}_{t+h|t} &= \\ell_{t} + hb_{t} + s_{t+h-m(k+1)} \\\\\n",
    "  \\ell_{t} &= \\alpha(y_{t} - s_{t-m}) + (1 - \\alpha)(\\ell_{t-1} + b_{t-1})\\\\\n",
    "  b_{t} &= \\beta^*(\\ell_{t} - \\ell_{t-1}) + (1 - \\beta^*)b_{t-1}\\\\\n",
    "  s_{t} &= \\gamma (y_{t}-\\ell_{t-1}-b_{t-1}) + (1-\\gamma)s_{t-m},\n",
    "\\end{align*}$"
   ]
  },
  {
   "cell_type": "markdown",
   "id": "0e2115b0-4498-44bb-9276-a68870986faa",
   "metadata": {
    "tags": []
   },
   "source": [
    "#### Building the model"
   ]
  },
  {
   "cell_type": "code",
   "execution_count": null,
   "id": "5086e624-518b-4759-a2e4-fcd48dea7c22",
   "metadata": {},
   "outputs": [],
   "source": [
    "from statsmodels.tsa.holtwinters import ExponentialSmoothing"
   ]
  },
  {
   "cell_type": "code",
   "execution_count": null,
   "id": "e70eb40a-68f1-4c36-bd22-5b4c9a847420",
   "metadata": {},
   "outputs": [],
   "source": [
    "holtwinters_fitted_model = ExponentialSmoothing(train.values, seasonal_periods=365, trend='add', seasonal='add',use_boxcox=False).fit()\n",
    "print(holtwinters_fitted_model.params)"
   ]
  },
  {
   "cell_type": "markdown",
   "id": "b07f1e20-215b-460b-b489-ee0c80e39c4f",
   "metadata": {
    "tags": []
   },
   "source": [
    "#### Checking the residuals"
   ]
  },
  {
   "cell_type": "code",
   "execution_count": null,
   "id": "7779881f-a5c0-45df-ad2f-dea3ae07e828",
   "metadata": {},
   "outputs": [],
   "source": [
    "holtwinters_resid = pd.Series(holtwinters_fitted_model.resid, index =train.index)\n",
    "plotTS(pd.DataFrame(holtwinters_resid, columns=['resid']), column='resid', figsize=(16,4), title='Holt-Winters Residuals [Store 2]')"
   ]
  },
  {
   "cell_type": "markdown",
   "id": "a6920ca0-e80e-449d-bbdf-fb2ca5e3f5fb",
   "metadata": {},
   "source": [
    "##### Checking normality (Holt-Winters residuals)"
   ]
  },
  {
   "cell_type": "code",
   "execution_count": null,
   "id": "b9845f0b-7269-4e7b-887c-cf47e298ab55",
   "metadata": {},
   "outputs": [],
   "source": [
    "qqPlot(holtwinters_resid, title='- Holt-Winters Residuals [Store 2]')\n",
    "checkNormality(holtwinters_resid)"
   ]
  },
  {
   "cell_type": "markdown",
   "id": "6fc957ed-00bf-4648-82d8-c34b69824c3f",
   "metadata": {},
   "source": [
    "##### Checking stationarity (Holt-Winters residuals)"
   ]
  },
  {
   "cell_type": "code",
   "execution_count": null,
   "id": "0180be43-695b-4624-9795-102d8fd02187",
   "metadata": {},
   "outputs": [],
   "source": [
    "checkStationarity(holtwinters_resid, kpss_type='c')"
   ]
  },
  {
   "cell_type": "markdown",
   "id": "f19479ea-bbb0-4095-8aa8-e64695c5f3cd",
   "metadata": {},
   "source": [
    "##### Checking homoscedasticity (Holt-Winters residuals)"
   ]
  },
  {
   "cell_type": "code",
   "execution_count": null,
   "id": "7cbcbbac-7a12-4b8a-b98a-1cb8bff2a774",
   "metadata": {},
   "outputs": [],
   "source": [
    "scalelocationPlot(holtwinters_resid, figsize=(16,4))\n",
    "checkHomoscedasticity(holtwinters_resid, robust=True)"
   ]
  },
  {
   "cell_type": "markdown",
   "id": "f1e83889-5750-4a0c-9ff5-387781846989",
   "metadata": {},
   "source": [
    "##### Checking autocorrelation (Holt-Winters residuals)"
   ]
  },
  {
   "cell_type": "code",
   "execution_count": null,
   "id": "95a97d4e-ad77-4a2b-b0c8-d163197058e6",
   "metadata": {},
   "outputs": [],
   "source": [
    "autocorrelationPlot(holtwinters_resid, lags=30)\n",
    "checkAutorcorrelation(holtwinters_resid, lags=30)"
   ]
  },
  {
   "cell_type": "markdown",
   "id": "cc68f0e7-a063-4f88-bb85-b91eef9146dd",
   "metadata": {
    "tags": []
   },
   "source": [
    "#### Holt-Winters Prediction"
   ]
  },
  {
   "cell_type": "code",
   "execution_count": null,
   "id": "c870c3de-3cb5-4f2f-b25f-aae52702ec2c",
   "metadata": {},
   "outputs": [],
   "source": [
    "y_pred_holtwinters = holtwinters_fitted_model.forecast(steps=61)\n",
    "y_pred_holtwinters = pd.Series(y_pred_holtwinters, index=test.index)"
   ]
  },
  {
   "cell_type": "code",
   "execution_count": null,
   "id": "e29c22c1-9c8d-4f4f-b246-4a9328a0005e",
   "metadata": {},
   "outputs": [],
   "source": [
    "plt.figure(figsize=(16,4))\n",
    "plt.plot(test, color='blue', label='Ground truth')\n",
    "plt.plot(y_pred_holtwinters, color='red', label='Prediction')\n",
    "plt.title('Forecast - Holt-Winters [Store 2]', fontsize=14)\n",
    "plt.xlim(test.index[0],test.index[-1])\n",
    "plt.xlabel('Date')\n",
    "plt.ylabel('Items sold (unit/day)')\n",
    "plt.ylim(0,6000)\n",
    "plt.legend()\n",
    "plt.show()"
   ]
  },
  {
   "cell_type": "code",
   "execution_count": null,
   "id": "7b8223ca-60ce-46af-8048-895d995d4c82",
   "metadata": {},
   "outputs": [],
   "source": [
    "mse_holtwinters = mean_squared_error(y_pred_holtwinters,test.values)\n",
    "mae_holtwinters = mean_absolute_error(y_pred_holtwinters,test.values)\n",
    "mape_holtwinters = mean_absolute_percentage_error(y_pred_holtwinters,test.values)*100\n",
    "\n",
    "print('Holt-Winters model performance: ')\n",
    "print('MSE: ', round(mse_holtwinters,3))\n",
    "print('MAE: ', round(mae_holtwinters,3))\n",
    "print('MAPE: ', round(mape_holtwinters,3), '%')"
   ]
  },
  {
   "cell_type": "markdown",
   "id": "ad798fc2-c6f9-4783-bd48-41e3f4eeb2ae",
   "metadata": {
    "tags": []
   },
   "source": [
    "### Summary"
   ]
  },
  {
   "cell_type": "code",
   "execution_count": null,
   "id": "08d20e14-087e-424f-9d38-0a6c15a3b84c",
   "metadata": {
    "tags": []
   },
   "outputs": [],
   "source": [
    "f, axes = plt.subplots(5,1,figsize=(16,28))\n",
    "plt.suptitle('Model comparison [Store 2]', y=0.92, fontsize=14)\n",
    "\n",
    "axes[0].plot(y_pred_arima, color='red', label='SARIMA')\n",
    "axes[0].plot(test, color='blue', label='Ground truth')\n",
    "axes[0].set_title('SARIMAX vs Actual', fontdict={'fontsize': 12})\n",
    "\n",
    "axes[1].plot(y_pred_dshw, color='orange', label='DSHW')\n",
    "axes[1].plot(test, color='blue', label='Ground truth')\n",
    "axes[1].set_title('Double Seasonal Holt-Winters vs Actual', fontdict={'fontsize': 12})\n",
    "\n",
    "axes[2].plot(y_pred_tbats, color='green', label='TBATS')\n",
    "axes[2].plot(test, color='blue', label='Ground truth')\n",
    "axes[2].set_title('TBATS vs Actual', fontdict={'fontsize': 12})\n",
    "\n",
    "axes[3].plot(y_pred_prophet, color='purple', label='Prophet')\n",
    "axes[3].plot(test, color='blue', label='Ground truth')\n",
    "axes[3].set_title('Prophet vs Actual', fontdict={'fontsize': 12})\n",
    "\n",
    "axes[4].plot(y_pred_holtwinters, color='grey', label='Holt-Winters')\n",
    "axes[4].plot(test, color='blue', label='Ground truth')\n",
    "axes[4].set_title('Holt-Winters vs Actual', fontdict={'fontsize': 12})\n",
    "\n",
    "for a in axes:\n",
    "    a.set_ylabel('Items sold (units)')\n",
    "    a.set_xlabel('Date')\n",
    "    a.set_xlim(test.index[0], test.index[-1])\n",
    "    a.set_ylim(0,6000)\n",
    "    a.legend()\n",
    "\n",
    "plt.show()"
   ]
  },
  {
   "cell_type": "code",
   "execution_count": null,
   "id": "16007dc8-9eb0-4502-967f-23984414c69c",
   "metadata": {},
   "outputs": [],
   "source": [
    "data = {'Model':['SARIMA', 'DSHW', 'TBATS', 'PROPHET','HOLT-WINTERS'],\n",
    "        'MSE':[mse_sarimax, mse_dshw, mse_tbats, mse_prophet,mse_holtwinters],\n",
    "        'MAE':[mae_sarimax,mae_dshw,mae_tbats,mae_prophet,mae_holtwinters],\n",
    "        'MAPE (%)':[mape_sarimax,mape_dshw,mape_tbats,mape_prophet,mape_holtwinters],\n",
    "        'Stationarity (residuals)':['Stationary','Stationary','Stationary','Stationary','Not stationary'],\n",
    "        'Distribution (residuals)':['Not normal','Not normal','Not normal','Not normal','Not normal'],\n",
    "        'Homoscedasticity (residuals)':['Homoscedastic','Heteroscedastic','Heteroscedastic','Heteroscedastic','Heteroscedastic'],\n",
    "        'Autocorrelation (residuals)':['Not autocorrelated','Not autocorrelated','Autocorrelated','Autocorrelated','Autocorrelated']}\n",
    " \n",
    "all_models_summary = pd.DataFrame(data)\n",
    "display(round(all_models_summary,2))"
   ]
  },
  {
   "cell_type": "markdown",
   "id": "a258b4ed-d811-4e22-9d74-13735169b177",
   "metadata": {},
   "source": [
    "# Forecast [All Store]"
   ]
  },
  {
   "cell_type": "code",
   "execution_count": null,
   "id": "31e50bf7-1932-4cf7-b1e8-b586c259f922",
   "metadata": {},
   "outputs": [],
   "source": [
    "for store in sales_by_store.columns:\n",
    "    #train-test split\n",
    "    store_train = sales_by_store[store][:'2017-10-31']\n",
    "    store_test = sales_by_store[store]['2017-11-01':]\n",
    "    \n",
    "    #model training and prediction\n",
    "    store_train_data=time_series(store_train.values,frequency=1)\n",
    "    store_dshw_model=forecast_package.dshw(store_train_data,364,7, h=61)\n",
    "    store_y_pred_dshw = np.array(store_dshw_model.rx('mean'))\n",
    "    store_y_pred_dshw = pd.Series([x for x in store_y_pred_dshw[0]], index=store_test.index)\n",
    "    \n",
    "    #prediction plot\n",
    "    plt.figure(figsize=(16,4))\n",
    "    plt.plot(store_test, color='blue', label='Ground truth')\n",
    "    plt.plot(store_y_pred_dshw, color='red', label='Prediction')\n",
    "    plt.title('Forecast - Double Seasonal Holt-Winters [{}]'.format(store), fontsize=14)\n",
    "    plt.xlim(store_test.index[0],store_test.index[-1])\n",
    "    plt.xlabel('Date')\n",
    "    plt.ylabel('Items sold (unit/day)')\n",
    "    plt.ylim(0,6000)\n",
    "    plt.legend()\n",
    "    plt.show()\n",
    "    \n",
    "    #model performance\n",
    "    store_mse_dshw = mean_squared_error(store_y_pred_dshw,store_test.values)\n",
    "    store_mae_dshw = mean_absolute_error(store_y_pred_dshw,store_test.values)\n",
    "    store_mape_dshw = mean_absolute_percentage_error(store_y_pred_dshw,store_test.values)*100\n",
    "    \n",
    "    print('Double Seasonal Holt-Winters model performance [{}]: '.format(store))\n",
    "    print('MSE: ', round(store_mse_dshw,3))\n",
    "    print('MAE: ', round(store_mae_dshw,3))\n",
    "    print('MAPE: ', round(store_mape_dshw,3), '%')"
   ]
  }
 ],
 "metadata": {
  "colab": {
   "collapsed_sections": [
    "Mcfo6eTXqhIv",
    "2adc9aa2"
   ],
   "name": "Item_sales_EDA_Forecasting(Colab).ipynb",
   "provenance": []
  },
  "kernelspec": {
   "display_name": "Python 3 (ipykernel)",
   "language": "python",
   "name": "python3"
  },
  "language_info": {
   "codemirror_mode": {
    "name": "ipython",
    "version": 3
   },
   "file_extension": ".py",
   "mimetype": "text/x-python",
   "name": "python",
   "nbconvert_exporter": "python",
   "pygments_lexer": "ipython3",
   "version": "3.9.7"
  }
 },
 "nbformat": 4,
 "nbformat_minor": 5
}
